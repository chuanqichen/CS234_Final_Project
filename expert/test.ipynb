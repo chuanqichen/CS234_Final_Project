{
 "cells": [
  {
   "cell_type": "code",
   "execution_count": 1,
   "metadata": {},
   "outputs": [
    {
     "name": "stderr",
     "output_type": "stream",
     "text": [
      "/Users/kelvinchristian/miniconda3/envs/cs234/lib/python3.9/site-packages/tqdm/auto.py:21: TqdmWarning: IProgress not found. Please update jupyter and ipywidgets. See https://ipywidgets.readthedocs.io/en/stable/user_install.html\n",
      "  from .autonotebook import tqdm as notebook_tqdm\n"
     ]
    },
    {
     "name": "stdout",
     "output_type": "stream",
     "text": [
      "...Start Training...\n",
      "\n",
      "\n",
      "\n",
      "\n",
      "\n",
      "\n",
      "\n",
      "\n",
      "\n",
      "\n"
     ]
    }
   ],
   "source": [
    "import os\n",
    "import sys\n",
    "import json\n",
    "import torch\n",
    "from torch.utils.data import DataLoader, TensorDataset\n",
    "import numpy as np\n",
    "import pandas as pd\n",
    "from network_utils import MultiLayerCNN, np2torch, device, MultiLayerCNNPolicy\n",
    "from environment import Environment\n",
    "import matplotlib.pyplot as plt\n",
    "import hiddenlayer as hl\n",
    "from torchviz import make_dot\n",
    "\n",
    "\n",
    "# ---------------------------------------------------------------------------- #\n",
    "#                                     Input                                    #\n",
    "# ---------------------------------------------------------------------------- #\n",
    "# Can modify\n",
    "DATADIR = input(\"Enter dataset directory: \")\n",
    "if not os.path.exists(DATADIR):\n",
    "    print(\"Directory doesn't exists!\")\n",
    "    sys.exit(1)\n",
    "batch_size = 64\n",
    "TRAINING_MODE = input(\"Enter training mode (pick, place, all): \").lower()\n",
    "\n",
    "# ---------------------------------------------------------------------------- #\n",
    "#                                  Environment                                 #\n",
    "# ---------------------------------------------------------------------------- #\n",
    "\n",
    "env_generator = Environment()\n",
    "env = env_generator.create_env(fixed_placement=True)\n",
    "action_dim = env.action_dim\n",
    "with open(os.path.join(DATADIR, \"obs_dims.json\"), \"r\") as f:\n",
    "    obs_dict = json.load(f)\n",
    "    obs_dims = sum([v for k, v in obs_dict.items()])\n",
    "    train_dims = sum([v for k, v in obs_dict.items() if k in [\n",
    "        \"robot0_joint_pos_cos\",\n",
    "        \"robot0_joint_pos_sin\",\n",
    "        \"robot0_joint_vel\",\n",
    "        \"robot0_eef_pos\",\n",
    "        \"robot0_eef_quat\",\n",
    "        \"robot0_gripper_qpos\",\n",
    "        \"robot0_gripper_qvel\"\n",
    "    ]])\n",
    "\n",
    "with open(os.path.join(DATADIR, \"img_dims.json\"), \"r\") as f:\n",
    "    img_dims = sum([v for k, v in json.load(f).items()])\n",
    "\n",
    "# ---------------------------------------------------------------------------- #\n",
    "#                                    Helper                                    #\n",
    "# ---------------------------------------------------------------------------- #\n",
    "def create_dataloader(obs, actions, batch_size: int):\n",
    "    tensor_dataset = TensorDataset(np2torch(obs), np2torch(actions))\n",
    "    dataloader = DataLoader(tensor_dataset, batch_size=batch_size, shuffle=True)\n",
    "    return dataloader\n",
    "\n",
    "# ---------------------------------------------------------------------------- #\n",
    "#                                    Network                                   #\n",
    "# ---------------------------------------------------------------------------- #\n",
    "\n",
    "network = MultiLayerCNN(\n",
    "    obs_input_size=train_dims,\n",
    "    img_input_height=int(np.sqrt(img_dims / 3)),\n",
    "    img_input_width=int(np.sqrt(img_dims / 3)),\n",
    "    output_size=action_dim\n",
    ").to(device=device)\n",
    "optimizer = torch.optim.Adam(network.parameters(), lr=0.00001)\n",
    "criterion = torch.nn.MSELoss()\n",
    "\n",
    "\n",
    "# ---------------------------------------------------------------------------- #\n",
    "#                                   Training                                   #\n",
    "# ---------------------------------------------------------------------------- #\n",
    "\n",
    "obs_filepaths = [\n",
    "    os.path.join(DATADIR, filename)\\\n",
    "        for filename in os.listdir(DATADIR) if \"observations\" in filename\n",
    "]\n",
    "\n",
    "imgs_filepaths = [\n",
    "    os.path.join(DATADIR, filename)\\\n",
    "        for filename in os.listdir(DATADIR) if \"imgs\" in filename\n",
    "]\n",
    "\n",
    "combined_filepaths = []\n",
    "for filename in obs_filepaths:\n",
    "    common_name = \"_\" + \"_\".join(filename.split(\"_\")[-2:])\n",
    "    img_filename = [img_file for img_file in imgs_filepaths if common_name in img_file][0]\n",
    "    combined_filepaths.append((filename, img_filename))\n",
    "\n",
    "# Change the epochs here\n",
    "epochs = 10\n",
    "file_no = 0\n",
    "total_file = len(obs_filepaths) * epochs\n",
    "print(\"...Start Training...\")\n",
    "for i in range(epochs):\n",
    "    for filepath_obs, filepath_imgs in combined_filepaths:\n",
    "        print()\n",
    "        file_no += 1\n",
    "        try:\n",
    "            df_obs = pd.read_csv(filepath_obs)\n",
    "            df_imgs = pd.read_csv(filepath_imgs)\n",
    "            if TRAINING_MODE == \"pick\":\n",
    "                df_obs = df_obs[df_obs[\"subtask_id\"] <= 4]\n",
    "                df_imgs = df_imgs[df_imgs[\"subtask_id\"] <= 4]\n",
    "            elif TRAINING_MODE == \"place\":\n",
    "                df_obs = df_obs[df_obs[\"subtask_id\"] > 4]\n",
    "                df_imgs = df_imgs[df_imgs[\"subtask_id\"] > 4]\n",
    "        except:\n",
    "            continue\n",
    "        obs = df_obs.iloc[:, 0:train_dims]\n",
    "        imgs = df_imgs.iloc[:, 0:img_dims]\n",
    "        \n",
    "        obs_imgs = pd.concat([obs, imgs], axis=1).values.astype(np.float32)\n",
    "        actions = df_obs.iloc[:, obs_dims:(obs_dims+action_dim)].values.astype(np.float32)\n",
    "        \n",
    "        dataloader = create_dataloader(obs_imgs, actions, batch_size=batch_size)\n",
    "        n_dataloader = len(dataloader)\n",
    "        del obs, imgs, obs_imgs, actions, df_obs, df_imgs\n",
    "\n",
    "        for batch, (X, y) in enumerate(dataloader):\n",
    "\n",
    "            y_hat = network(X)\n",
    "            loss = criterion(y_hat, y)\n",
    "            break\n",
    "\n",
    "        break\n"
   ]
  },
  {
   "cell_type": "code",
   "execution_count": 4,
   "metadata": {},
   "outputs": [],
   "source": [
    "network = MultiLayerCNNPolicy(\n",
    "    obs_input_size=train_dims,\n",
    "    img_input_height=int(np.sqrt(img_dims / 3)),\n",
    "    img_input_width=int(np.sqrt(img_dims / 3)),\n",
    "    observation_space=\"ls\"\n",
    ")"
   ]
  },
  {
   "cell_type": "code",
   "execution_count": null,
   "metadata": {},
   "outputs": [],
   "source": [
    "net = "
   ]
  },
  {
   "cell_type": "code",
   "execution_count": 5,
   "metadata": {},
   "outputs": [
    {
     "data": {
      "image/svg+xml": "<?xml version=\"1.0\" encoding=\"UTF-8\" standalone=\"no\"?>\n<!DOCTYPE svg PUBLIC \"-//W3C//DTD SVG 1.1//EN\"\n \"http://www.w3.org/Graphics/SVG/1.1/DTD/svg11.dtd\">\n<!-- Generated by graphviz version 7.1.0 (20230121.1956)\n -->\n<!-- Title: model Pages: 1 -->\n<svg width=\"333pt\" height=\"1015pt\"\n viewBox=\"0.00 0.00 333.06 1015.00\" xmlns=\"http://www.w3.org/2000/svg\" xmlns:xlink=\"http://www.w3.org/1999/xlink\">\n<g id=\"graph0\" class=\"graph\" transform=\"scale(0.83265 0.83265) rotate(0) translate(4 1215)\">\n<title>model</title>\n<polygon fill=\"white\" stroke=\"none\" points=\"-4,4 -4,-1215 396,-1215 396,4 -4,4\"/>\n<g id=\"clust1\" class=\"cluster\">\n<title>cluster_2</title>\n<polygon fill=\"none\" stroke=\"black\" stroke-dasharray=\"5,2\" points=\"184,-389 184,-859 384,-859 384,-389 184,-389\"/>\n<text text-anchor=\"middle\" x=\"217\" y=\"-845.4\" font-family=\"Times,serif\" font-size=\"12.00\">Sequential</text>\n</g>\n<g id=\"clust2\" class=\"cluster\">\n<title>cluster_3</title>\n<polygon fill=\"none\" stroke=\"black\" stroke-dasharray=\"5,2\" points=\"17,-311 17,-468 173,-468 173,-311 17,-311\"/>\n<text text-anchor=\"middle\" x=\"50\" y=\"-454.4\" font-family=\"Times,serif\" font-size=\"12.00\">Sequential</text>\n</g>\n<g id=\"clust3\" class=\"cluster\">\n<title>cluster_4</title>\n<polygon fill=\"none\" stroke=\"black\" stroke-dasharray=\"5,2\" points=\"14,-8 14,-233 180,-233 180,-8 14,-8\"/>\n<text text-anchor=\"middle\" x=\"47\" y=\"-219.4\" font-family=\"Times,serif\" font-size=\"12.00\">Sequential</text>\n</g>\n<!-- 0 -->\n<g id=\"node1\" class=\"node\">\n<title>0</title>\n<polygon fill=\"lightyellow\" stroke=\"none\" points=\"243.5,-1211 122.5,-1211 122.5,-1179 243.5,-1179 243.5,-1211\"/>\n<polygon fill=\"none\" stroke=\"black\" points=\"123,-1179 123,-1211 185,-1211 185,-1179 123,-1179\"/>\n<text text-anchor=\"start\" x=\"128\" y=\"-1198\" font-family=\"Linux libertine\" font-size=\"10.00\">input&#45;tensor</text>\n<text text-anchor=\"start\" x=\"137.5\" y=\"-1187\" font-family=\"Linux libertine\" font-size=\"10.00\">depth:0</text>\n<polygon fill=\"none\" stroke=\"black\" points=\"185,-1179 185,-1211 244,-1211 244,-1179 185,-1179\"/>\n<text text-anchor=\"start\" x=\"190\" y=\"-1192.5\" font-family=\"Linux libertine\" font-size=\"10.00\">(64, 12320)</text>\n</g>\n<!-- 1 -->\n<g id=\"node2\" class=\"node\">\n<title>1</title>\n<polygon fill=\"aliceblue\" stroke=\"none\" points=\"257.5,-1143 108.5,-1143 108.5,-1101 257.5,-1101 257.5,-1143\"/>\n<polygon fill=\"none\" stroke=\"black\" points=\"109,-1101 109,-1143 152,-1143 152,-1101 109,-1101\"/>\n<text text-anchor=\"start\" x=\"126\" y=\"-1125\" font-family=\"Linux libertine\" font-size=\"10.00\">to</text>\n<text text-anchor=\"start\" x=\"114\" y=\"-1114\" font-family=\"Linux libertine\" font-size=\"10.00\">depth:1</text>\n<polygon fill=\"none\" stroke=\"black\" points=\"152,-1122 152,-1143 196,-1143 196,-1122 152,-1122\"/>\n<text text-anchor=\"start\" x=\"161.5\" y=\"-1130\" font-family=\"Linux libertine\" font-size=\"10.00\">input:</text>\n<polygon fill=\"none\" stroke=\"black\" points=\"196,-1122 196,-1143 258,-1143 258,-1122 196,-1122\"/>\n<text text-anchor=\"start\" x=\"201\" y=\"-1130\" font-family=\"Linux libertine\" font-size=\"10.00\">(64, 12320) </text>\n<polygon fill=\"none\" stroke=\"black\" points=\"152,-1101 152,-1122 196,-1122 196,-1101 152,-1101\"/>\n<text text-anchor=\"start\" x=\"157\" y=\"-1109\" font-family=\"Linux libertine\" font-size=\"10.00\">output: </text>\n<polygon fill=\"none\" stroke=\"black\" points=\"196,-1101 196,-1122 258,-1122 258,-1101 196,-1101\"/>\n<text text-anchor=\"start\" x=\"201\" y=\"-1109\" font-family=\"Linux libertine\" font-size=\"10.00\">(64, 12320) </text>\n</g>\n<!-- 0&#45;&gt;1 -->\n<g id=\"edge1\" class=\"edge\">\n<title>0&#45;&gt;1</title>\n<path fill=\"none\" stroke=\"black\" d=\"M183,-1179.29C183,-1172.03 183,-1162.98 183,-1154.27\"/>\n<polygon fill=\"black\" stroke=\"black\" points=\"186.5,-1154.32 183,-1144.32 179.5,-1154.32 186.5,-1154.32\"/>\n</g>\n<!-- 2 -->\n<g id=\"node3\" class=\"node\">\n<title>2</title>\n<polygon fill=\"aliceblue\" stroke=\"none\" points=\"176,-518 6,-518 6,-476 176,-476 176,-518\"/>\n<polygon fill=\"none\" stroke=\"black\" points=\"6,-476 6,-518 70,-518 70,-476 6,-476\"/>\n<text text-anchor=\"start\" x=\"11\" y=\"-500\" font-family=\"Linux libertine\" font-size=\"10.00\">__getitem__</text>\n<text text-anchor=\"start\" x=\"21.5\" y=\"-489\" font-family=\"Linux libertine\" font-size=\"10.00\">depth:1</text>\n<polygon fill=\"none\" stroke=\"black\" points=\"70,-497 70,-518 114,-518 114,-497 70,-497\"/>\n<text text-anchor=\"start\" x=\"79.5\" y=\"-505\" font-family=\"Linux libertine\" font-size=\"10.00\">input:</text>\n<polygon fill=\"none\" stroke=\"black\" points=\"114,-497 114,-518 176,-518 176,-497 114,-497\"/>\n<text text-anchor=\"start\" x=\"119\" y=\"-505\" font-family=\"Linux libertine\" font-size=\"10.00\">(64, 12320) </text>\n<polygon fill=\"none\" stroke=\"black\" points=\"70,-476 70,-497 114,-497 114,-476 70,-476\"/>\n<text text-anchor=\"start\" x=\"75\" y=\"-484\" font-family=\"Linux libertine\" font-size=\"10.00\">output: </text>\n<polygon fill=\"none\" stroke=\"black\" points=\"114,-476 114,-497 176,-497 176,-476 114,-476\"/>\n<text text-anchor=\"start\" x=\"126.5\" y=\"-484\" font-family=\"Linux libertine\" font-size=\"10.00\">(64, 32) </text>\n</g>\n<!-- 1&#45;&gt;2 -->\n<g id=\"edge2\" class=\"edge\">\n<title>1&#45;&gt;2</title>\n<path fill=\"none\" stroke=\"black\" d=\"M170.85,-1101.41C154.38,-1072.93 127,-1017.92 127,-967 127,-967 127,-967 127,-652 127,-608.18 113.01,-559.14 102.47,-528.42\"/>\n<polygon fill=\"black\" stroke=\"black\" points=\"105.78,-527.28 99.14,-519.02 99.18,-529.61 105.78,-527.28\"/>\n</g>\n<!-- 3 -->\n<g id=\"node4\" class=\"node\">\n<title>3</title>\n<polygon fill=\"aliceblue\" stroke=\"none\" points=\"343,-1065 173,-1065 173,-1023 343,-1023 343,-1065\"/>\n<polygon fill=\"none\" stroke=\"black\" points=\"173,-1023 173,-1065 237,-1065 237,-1023 173,-1023\"/>\n<text text-anchor=\"start\" x=\"178\" y=\"-1047\" font-family=\"Linux libertine\" font-size=\"10.00\">__getitem__</text>\n<text text-anchor=\"start\" x=\"188.5\" y=\"-1036\" font-family=\"Linux libertine\" font-size=\"10.00\">depth:1</text>\n<polygon fill=\"none\" stroke=\"black\" points=\"237,-1044 237,-1065 281,-1065 281,-1044 237,-1044\"/>\n<text text-anchor=\"start\" x=\"246.5\" y=\"-1052\" font-family=\"Linux libertine\" font-size=\"10.00\">input:</text>\n<polygon fill=\"none\" stroke=\"black\" points=\"281,-1044 281,-1065 343,-1065 343,-1044 281,-1044\"/>\n<text text-anchor=\"start\" x=\"286\" y=\"-1052\" font-family=\"Linux libertine\" font-size=\"10.00\">(64, 12320) </text>\n<polygon fill=\"none\" stroke=\"black\" points=\"237,-1023 237,-1044 281,-1044 281,-1023 237,-1023\"/>\n<text text-anchor=\"start\" x=\"242\" y=\"-1031\" font-family=\"Linux libertine\" font-size=\"10.00\">output: </text>\n<polygon fill=\"none\" stroke=\"black\" points=\"281,-1023 281,-1044 343,-1044 343,-1023 281,-1023\"/>\n<text text-anchor=\"start\" x=\"286\" y=\"-1031\" font-family=\"Linux libertine\" font-size=\"10.00\">(64, 12288) </text>\n</g>\n<!-- 1&#45;&gt;3 -->\n<g id=\"edge3\" class=\"edge\">\n<title>1&#45;&gt;3</title>\n<path fill=\"none\" stroke=\"black\" d=\"M202.71,-1101.03C211.23,-1092.39 221.36,-1082.13 230.6,-1072.77\"/>\n<polygon fill=\"black\" stroke=\"black\" points=\"232.83,-1075.49 237.36,-1065.91 227.85,-1070.57 232.83,-1075.49\"/>\n</g>\n<!-- 13 -->\n<g id=\"node14\" class=\"node\">\n<title>13</title>\n<polygon fill=\"#c1ffc1\" stroke=\"none\" points=\"164.5,-439 25.5,-439 25.5,-397 164.5,-397 164.5,-439\"/>\n<polygon fill=\"none\" stroke=\"black\" points=\"26,-397 26,-439 69,-439 69,-397 26,-397\"/>\n<text text-anchor=\"start\" x=\"34\" y=\"-421\" font-family=\"Linux libertine\" font-size=\"10.00\">Linear</text>\n<text text-anchor=\"start\" x=\"31\" y=\"-410\" font-family=\"Linux libertine\" font-size=\"10.00\">depth:2</text>\n<polygon fill=\"none\" stroke=\"black\" points=\"69,-418 69,-439 113,-439 113,-418 69,-418\"/>\n<text text-anchor=\"start\" x=\"78.5\" y=\"-426\" font-family=\"Linux libertine\" font-size=\"10.00\">input:</text>\n<polygon fill=\"none\" stroke=\"black\" points=\"113,-418 113,-439 165,-439 165,-418 113,-418\"/>\n<text text-anchor=\"start\" x=\"120.5\" y=\"-426\" font-family=\"Linux libertine\" font-size=\"10.00\">(64, 32) </text>\n<polygon fill=\"none\" stroke=\"black\" points=\"69,-397 69,-418 113,-418 113,-397 69,-397\"/>\n<text text-anchor=\"start\" x=\"74\" y=\"-405\" font-family=\"Linux libertine\" font-size=\"10.00\">output: </text>\n<polygon fill=\"none\" stroke=\"black\" points=\"113,-397 113,-418 165,-418 165,-397 113,-397\"/>\n<text text-anchor=\"start\" x=\"118\" y=\"-405\" font-family=\"Linux libertine\" font-size=\"10.00\">(64, 128) </text>\n</g>\n<!-- 2&#45;&gt;13 -->\n<g id=\"edge14\" class=\"edge\">\n<title>2&#45;&gt;13</title>\n<path fill=\"none\" stroke=\"black\" d=\"M92.03,-476.17C92.44,-468.27 92.92,-458.98 93.38,-450.21\"/>\n<polygon fill=\"black\" stroke=\"black\" points=\"96.87,-450.44 93.89,-440.27 89.88,-450.08 96.87,-450.44\"/>\n</g>\n<!-- 4 -->\n<g id=\"node5\" class=\"node\">\n<title>4</title>\n<polygon fill=\"aliceblue\" stroke=\"none\" points=\"343.5,-987 180.5,-987 180.5,-945 343.5,-945 343.5,-987\"/>\n<polygon fill=\"none\" stroke=\"black\" points=\"181,-945 181,-987 226,-987 226,-945 181,-945\"/>\n<text text-anchor=\"start\" x=\"186\" y=\"-969\" font-family=\"Linux libertine\" font-size=\"10.00\">reshape</text>\n<text text-anchor=\"start\" x=\"187\" y=\"-958\" font-family=\"Linux libertine\" font-size=\"10.00\">depth:1</text>\n<polygon fill=\"none\" stroke=\"black\" points=\"226,-966 226,-987 270,-987 270,-966 226,-966\"/>\n<text text-anchor=\"start\" x=\"235.5\" y=\"-974\" font-family=\"Linux libertine\" font-size=\"10.00\">input:</text>\n<polygon fill=\"none\" stroke=\"black\" points=\"270,-966 270,-987 344,-987 344,-966 270,-966\"/>\n<text text-anchor=\"start\" x=\"281\" y=\"-974\" font-family=\"Linux libertine\" font-size=\"10.00\">(64, 12288) </text>\n<polygon fill=\"none\" stroke=\"black\" points=\"226,-945 226,-966 270,-966 270,-945 226,-945\"/>\n<text text-anchor=\"start\" x=\"231\" y=\"-953\" font-family=\"Linux libertine\" font-size=\"10.00\">output: </text>\n<polygon fill=\"none\" stroke=\"black\" points=\"270,-945 270,-966 344,-966 344,-945 270,-945\"/>\n<text text-anchor=\"start\" x=\"275\" y=\"-953\" font-family=\"Linux libertine\" font-size=\"10.00\">(64, 64, 64, 3) </text>\n</g>\n<!-- 3&#45;&gt;4 -->\n<g id=\"edge4\" class=\"edge\">\n<title>3&#45;&gt;4</title>\n<path fill=\"none\" stroke=\"black\" d=\"M259.05,-1023.03C259.45,-1015.44 259.92,-1006.6 260.36,-998.21\"/>\n<polygon fill=\"black\" stroke=\"black\" points=\"263.85,-998.52 260.88,-988.35 256.86,-998.15 263.85,-998.52\"/>\n</g>\n<!-- 5 -->\n<g id=\"node6\" class=\"node\">\n<title>5</title>\n<polygon fill=\"aliceblue\" stroke=\"none\" points=\"353,-909 189,-909 189,-867 353,-867 353,-909\"/>\n<polygon fill=\"none\" stroke=\"black\" points=\"189,-867 189,-909 235,-909 235,-867 189,-867\"/>\n<text text-anchor=\"start\" x=\"194\" y=\"-891\" font-family=\"Linux libertine\" font-size=\"10.00\">permute</text>\n<text text-anchor=\"start\" x=\"195.5\" y=\"-880\" font-family=\"Linux libertine\" font-size=\"10.00\">depth:1</text>\n<polygon fill=\"none\" stroke=\"black\" points=\"235,-888 235,-909 279,-909 279,-888 235,-888\"/>\n<text text-anchor=\"start\" x=\"244.5\" y=\"-896\" font-family=\"Linux libertine\" font-size=\"10.00\">input:</text>\n<polygon fill=\"none\" stroke=\"black\" points=\"279,-888 279,-909 353,-909 353,-888 279,-888\"/>\n<text text-anchor=\"start\" x=\"284\" y=\"-896\" font-family=\"Linux libertine\" font-size=\"10.00\">(64, 64, 64, 3) </text>\n<polygon fill=\"none\" stroke=\"black\" points=\"235,-867 235,-888 279,-888 279,-867 235,-867\"/>\n<text text-anchor=\"start\" x=\"240\" y=\"-875\" font-family=\"Linux libertine\" font-size=\"10.00\">output: </text>\n<polygon fill=\"none\" stroke=\"black\" points=\"279,-867 279,-888 353,-888 353,-867 279,-867\"/>\n<text text-anchor=\"start\" x=\"284\" y=\"-875\" font-family=\"Linux libertine\" font-size=\"10.00\">(64, 3, 64, 64) </text>\n</g>\n<!-- 4&#45;&gt;5 -->\n<g id=\"edge5\" class=\"edge\">\n<title>4&#45;&gt;5</title>\n<path fill=\"none\" stroke=\"black\" d=\"M264.36,-945.03C265.26,-937.44 266.31,-928.6 267.3,-920.21\"/>\n<polygon fill=\"black\" stroke=\"black\" points=\"270.77,-920.68 268.47,-910.34 263.82,-919.86 270.77,-920.68\"/>\n</g>\n<!-- 6 -->\n<g id=\"node7\" class=\"node\">\n<title>6</title>\n<polygon fill=\"#c1ffc1\" stroke=\"none\" points=\"360,-830 192,-830 192,-788 360,-788 360,-830\"/>\n<polygon fill=\"none\" stroke=\"black\" points=\"192,-788 192,-830 236,-830 236,-788 192,-788\"/>\n<text text-anchor=\"start\" x=\"197\" y=\"-812\" font-family=\"Linux libertine\" font-size=\"10.00\">Conv2d</text>\n<text text-anchor=\"start\" x=\"197.5\" y=\"-801\" font-family=\"Linux libertine\" font-size=\"10.00\">depth:2</text>\n<polygon fill=\"none\" stroke=\"black\" points=\"236,-809 236,-830 280,-830 280,-809 236,-809\"/>\n<text text-anchor=\"start\" x=\"245.5\" y=\"-817\" font-family=\"Linux libertine\" font-size=\"10.00\">input:</text>\n<polygon fill=\"none\" stroke=\"black\" points=\"280,-809 280,-830 360,-830 360,-809 280,-809\"/>\n<text text-anchor=\"start\" x=\"288\" y=\"-817\" font-family=\"Linux libertine\" font-size=\"10.00\">(64, 3, 64, 64) </text>\n<polygon fill=\"none\" stroke=\"black\" points=\"236,-788 236,-809 280,-809 280,-788 236,-788\"/>\n<text text-anchor=\"start\" x=\"241\" y=\"-796\" font-family=\"Linux libertine\" font-size=\"10.00\">output: </text>\n<polygon fill=\"none\" stroke=\"black\" points=\"280,-788 280,-809 360,-809 360,-788 280,-788\"/>\n<text text-anchor=\"start\" x=\"285\" y=\"-796\" font-family=\"Linux libertine\" font-size=\"10.00\">(64, 27, 62, 62) </text>\n</g>\n<!-- 5&#45;&gt;6 -->\n<g id=\"edge6\" class=\"edge\">\n<title>5&#45;&gt;6</title>\n<path fill=\"none\" stroke=\"black\" d=\"M272.29,-867.17C272.8,-859.27 273.4,-849.98 273.97,-841.21\"/>\n<polygon fill=\"black\" stroke=\"black\" points=\"277.46,-841.48 274.62,-831.27 270.48,-841.02 277.46,-841.48\"/>\n</g>\n<!-- 7 -->\n<g id=\"node8\" class=\"node\">\n<title>7</title>\n<polygon fill=\"#c1ffc1\" stroke=\"none\" points=\"363.5,-752 196.5,-752 196.5,-710 363.5,-710 363.5,-752\"/>\n<polygon fill=\"none\" stroke=\"black\" points=\"197,-710 197,-752 240,-752 240,-710 197,-710\"/>\n<text text-anchor=\"start\" x=\"205.5\" y=\"-734\" font-family=\"Linux libertine\" font-size=\"10.00\">ReLU</text>\n<text text-anchor=\"start\" x=\"202\" y=\"-723\" font-family=\"Linux libertine\" font-size=\"10.00\">depth:2</text>\n<polygon fill=\"none\" stroke=\"black\" points=\"240,-731 240,-752 284,-752 284,-731 240,-731\"/>\n<text text-anchor=\"start\" x=\"249.5\" y=\"-739\" font-family=\"Linux libertine\" font-size=\"10.00\">input:</text>\n<polygon fill=\"none\" stroke=\"black\" points=\"284,-731 284,-752 364,-752 364,-731 284,-731\"/>\n<text text-anchor=\"start\" x=\"289\" y=\"-739\" font-family=\"Linux libertine\" font-size=\"10.00\">(64, 27, 62, 62) </text>\n<polygon fill=\"none\" stroke=\"black\" points=\"240,-710 240,-731 284,-731 284,-710 240,-710\"/>\n<text text-anchor=\"start\" x=\"245\" y=\"-718\" font-family=\"Linux libertine\" font-size=\"10.00\">output: </text>\n<polygon fill=\"none\" stroke=\"black\" points=\"284,-710 284,-731 364,-731 364,-710 284,-710\"/>\n<text text-anchor=\"start\" x=\"289\" y=\"-718\" font-family=\"Linux libertine\" font-size=\"10.00\">(64, 27, 62, 62) </text>\n</g>\n<!-- 6&#45;&gt;7 -->\n<g id=\"edge7\" class=\"edge\">\n<title>6&#45;&gt;7</title>\n<path fill=\"none\" stroke=\"black\" d=\"M277.05,-788.03C277.45,-780.44 277.92,-771.6 278.36,-763.21\"/>\n<polygon fill=\"black\" stroke=\"black\" points=\"281.85,-763.52 278.88,-753.35 274.86,-763.15 281.85,-763.52\"/>\n</g>\n<!-- 8 -->\n<g id=\"node9\" class=\"node\">\n<title>8</title>\n<polygon fill=\"#c1ffc1\" stroke=\"none\" points=\"375.5,-674 192.5,-674 192.5,-632 375.5,-632 375.5,-674\"/>\n<polygon fill=\"none\" stroke=\"black\" points=\"193,-632 193,-674 252,-674 252,-632 193,-632\"/>\n<text text-anchor=\"start\" x=\"198\" y=\"-656\" font-family=\"Linux libertine\" font-size=\"10.00\">MaxPool2d</text>\n<text text-anchor=\"start\" x=\"206\" y=\"-645\" font-family=\"Linux libertine\" font-size=\"10.00\">depth:2</text>\n<polygon fill=\"none\" stroke=\"black\" points=\"252,-653 252,-674 296,-674 296,-653 252,-653\"/>\n<text text-anchor=\"start\" x=\"261.5\" y=\"-661\" font-family=\"Linux libertine\" font-size=\"10.00\">input:</text>\n<polygon fill=\"none\" stroke=\"black\" points=\"296,-653 296,-674 376,-674 376,-653 296,-653\"/>\n<text text-anchor=\"start\" x=\"301\" y=\"-661\" font-family=\"Linux libertine\" font-size=\"10.00\">(64, 27, 62, 62) </text>\n<polygon fill=\"none\" stroke=\"black\" points=\"252,-632 252,-653 296,-653 296,-632 252,-632\"/>\n<text text-anchor=\"start\" x=\"257\" y=\"-640\" font-family=\"Linux libertine\" font-size=\"10.00\">output: </text>\n<polygon fill=\"none\" stroke=\"black\" points=\"296,-632 296,-653 376,-653 376,-632 296,-632\"/>\n<text text-anchor=\"start\" x=\"301\" y=\"-640\" font-family=\"Linux libertine\" font-size=\"10.00\">(64, 27, 31, 31) </text>\n</g>\n<!-- 7&#45;&gt;8 -->\n<g id=\"edge8\" class=\"edge\">\n<title>7&#45;&gt;8</title>\n<path fill=\"none\" stroke=\"black\" d=\"M281.05,-710.03C281.45,-702.44 281.92,-693.6 282.36,-685.21\"/>\n<polygon fill=\"black\" stroke=\"black\" points=\"285.85,-685.52 282.88,-675.35 278.86,-685.15 285.85,-685.52\"/>\n</g>\n<!-- 9 -->\n<g id=\"node10\" class=\"node\">\n<title>9</title>\n<polygon fill=\"#c1ffc1\" stroke=\"none\" points=\"368,-596 200,-596 200,-554 368,-554 368,-596\"/>\n<polygon fill=\"none\" stroke=\"black\" points=\"200,-554 200,-596 244,-596 244,-554 200,-554\"/>\n<text text-anchor=\"start\" x=\"205\" y=\"-578\" font-family=\"Linux libertine\" font-size=\"10.00\">Conv2d</text>\n<text text-anchor=\"start\" x=\"205.5\" y=\"-567\" font-family=\"Linux libertine\" font-size=\"10.00\">depth:2</text>\n<polygon fill=\"none\" stroke=\"black\" points=\"244,-575 244,-596 288,-596 288,-575 244,-575\"/>\n<text text-anchor=\"start\" x=\"253.5\" y=\"-583\" font-family=\"Linux libertine\" font-size=\"10.00\">input:</text>\n<polygon fill=\"none\" stroke=\"black\" points=\"288,-575 288,-596 368,-596 368,-575 288,-575\"/>\n<text text-anchor=\"start\" x=\"293\" y=\"-583\" font-family=\"Linux libertine\" font-size=\"10.00\">(64, 27, 31, 31) </text>\n<polygon fill=\"none\" stroke=\"black\" points=\"244,-554 244,-575 288,-575 288,-554 244,-554\"/>\n<text text-anchor=\"start\" x=\"249\" y=\"-562\" font-family=\"Linux libertine\" font-size=\"10.00\">output: </text>\n<polygon fill=\"none\" stroke=\"black\" points=\"288,-554 288,-575 368,-575 368,-554 288,-554\"/>\n<text text-anchor=\"start\" x=\"293\" y=\"-562\" font-family=\"Linux libertine\" font-size=\"10.00\">(64, 81, 29, 29) </text>\n</g>\n<!-- 8&#45;&gt;9 -->\n<g id=\"edge9\" class=\"edge\">\n<title>8&#45;&gt;9</title>\n<path fill=\"none\" stroke=\"black\" d=\"M284,-632.03C284,-624.44 284,-615.6 284,-607.21\"/>\n<polygon fill=\"black\" stroke=\"black\" points=\"287.5,-607.35 284,-597.35 280.5,-607.35 287.5,-607.35\"/>\n</g>\n<!-- 10 -->\n<g id=\"node11\" class=\"node\">\n<title>10</title>\n<polygon fill=\"#c1ffc1\" stroke=\"none\" points=\"367.5,-518 200.5,-518 200.5,-476 367.5,-476 367.5,-518\"/>\n<polygon fill=\"none\" stroke=\"black\" points=\"201,-476 201,-518 244,-518 244,-476 201,-476\"/>\n<text text-anchor=\"start\" x=\"209.5\" y=\"-500\" font-family=\"Linux libertine\" font-size=\"10.00\">ReLU</text>\n<text text-anchor=\"start\" x=\"206\" y=\"-489\" font-family=\"Linux libertine\" font-size=\"10.00\">depth:2</text>\n<polygon fill=\"none\" stroke=\"black\" points=\"244,-497 244,-518 288,-518 288,-497 244,-497\"/>\n<text text-anchor=\"start\" x=\"253.5\" y=\"-505\" font-family=\"Linux libertine\" font-size=\"10.00\">input:</text>\n<polygon fill=\"none\" stroke=\"black\" points=\"288,-497 288,-518 368,-518 368,-497 288,-497\"/>\n<text text-anchor=\"start\" x=\"293\" y=\"-505\" font-family=\"Linux libertine\" font-size=\"10.00\">(64, 81, 29, 29) </text>\n<polygon fill=\"none\" stroke=\"black\" points=\"244,-476 244,-497 288,-497 288,-476 244,-476\"/>\n<text text-anchor=\"start\" x=\"249\" y=\"-484\" font-family=\"Linux libertine\" font-size=\"10.00\">output: </text>\n<polygon fill=\"none\" stroke=\"black\" points=\"288,-476 288,-497 368,-497 368,-476 288,-476\"/>\n<text text-anchor=\"start\" x=\"293\" y=\"-484\" font-family=\"Linux libertine\" font-size=\"10.00\">(64, 81, 29, 29) </text>\n</g>\n<!-- 9&#45;&gt;10 -->\n<g id=\"edge10\" class=\"edge\">\n<title>9&#45;&gt;10</title>\n<path fill=\"none\" stroke=\"black\" d=\"M284,-554.03C284,-546.44 284,-537.6 284,-529.21\"/>\n<polygon fill=\"black\" stroke=\"black\" points=\"287.5,-529.35 284,-519.35 280.5,-529.35 287.5,-529.35\"/>\n</g>\n<!-- 11 -->\n<g id=\"node12\" class=\"node\">\n<title>11</title>\n<polygon fill=\"#c1ffc1\" stroke=\"none\" points=\"375.5,-439 192.5,-439 192.5,-397 375.5,-397 375.5,-439\"/>\n<polygon fill=\"none\" stroke=\"black\" points=\"193,-397 193,-439 252,-439 252,-397 193,-397\"/>\n<text text-anchor=\"start\" x=\"198\" y=\"-421\" font-family=\"Linux libertine\" font-size=\"10.00\">MaxPool2d</text>\n<text text-anchor=\"start\" x=\"206\" y=\"-410\" font-family=\"Linux libertine\" font-size=\"10.00\">depth:2</text>\n<polygon fill=\"none\" stroke=\"black\" points=\"252,-418 252,-439 296,-439 296,-418 252,-418\"/>\n<text text-anchor=\"start\" x=\"261.5\" y=\"-426\" font-family=\"Linux libertine\" font-size=\"10.00\">input:</text>\n<polygon fill=\"none\" stroke=\"black\" points=\"296,-418 296,-439 376,-439 376,-418 296,-418\"/>\n<text text-anchor=\"start\" x=\"301\" y=\"-426\" font-family=\"Linux libertine\" font-size=\"10.00\">(64, 81, 29, 29) </text>\n<polygon fill=\"none\" stroke=\"black\" points=\"252,-397 252,-418 296,-418 296,-397 252,-397\"/>\n<text text-anchor=\"start\" x=\"257\" y=\"-405\" font-family=\"Linux libertine\" font-size=\"10.00\">output: </text>\n<polygon fill=\"none\" stroke=\"black\" points=\"296,-397 296,-418 376,-418 376,-397 296,-397\"/>\n<text text-anchor=\"start\" x=\"301\" y=\"-405\" font-family=\"Linux libertine\" font-size=\"10.00\">(64, 81, 14, 14) </text>\n</g>\n<!-- 10&#45;&gt;11 -->\n<g id=\"edge11\" class=\"edge\">\n<title>10&#45;&gt;11</title>\n<path fill=\"none\" stroke=\"black\" d=\"M284,-476.17C284,-468.27 284,-458.98 284,-450.21\"/>\n<polygon fill=\"black\" stroke=\"black\" points=\"287.5,-450.28 284,-440.28 280.5,-450.28 287.5,-450.28\"/>\n</g>\n<!-- 12 -->\n<g id=\"node13\" class=\"node\">\n<title>12</title>\n<polygon fill=\"aliceblue\" stroke=\"none\" points=\"358.5,-361 191.5,-361 191.5,-319 358.5,-319 358.5,-361\"/>\n<polygon fill=\"none\" stroke=\"black\" points=\"192,-319 192,-361 235,-361 235,-319 192,-319\"/>\n<text text-anchor=\"start\" x=\"199.5\" y=\"-343\" font-family=\"Linux libertine\" font-size=\"10.00\">flatten</text>\n<text text-anchor=\"start\" x=\"197\" y=\"-332\" font-family=\"Linux libertine\" font-size=\"10.00\">depth:1</text>\n<polygon fill=\"none\" stroke=\"black\" points=\"235,-340 235,-361 279,-361 279,-340 235,-340\"/>\n<text text-anchor=\"start\" x=\"244.5\" y=\"-348\" font-family=\"Linux libertine\" font-size=\"10.00\">input:</text>\n<polygon fill=\"none\" stroke=\"black\" points=\"279,-340 279,-361 359,-361 359,-340 279,-340\"/>\n<text text-anchor=\"start\" x=\"284\" y=\"-348\" font-family=\"Linux libertine\" font-size=\"10.00\">(64, 81, 14, 14) </text>\n<polygon fill=\"none\" stroke=\"black\" points=\"235,-319 235,-340 279,-340 279,-319 235,-319\"/>\n<text text-anchor=\"start\" x=\"240\" y=\"-327\" font-family=\"Linux libertine\" font-size=\"10.00\">output: </text>\n<polygon fill=\"none\" stroke=\"black\" points=\"279,-319 279,-340 359,-340 359,-319 279,-319\"/>\n<text text-anchor=\"start\" x=\"293\" y=\"-327\" font-family=\"Linux libertine\" font-size=\"10.00\">(64, 15876) </text>\n</g>\n<!-- 11&#45;&gt;12 -->\n<g id=\"edge12\" class=\"edge\">\n<title>11&#45;&gt;12</title>\n<path fill=\"none\" stroke=\"black\" d=\"M281.64,-397.03C280.74,-389.44 279.69,-380.6 278.7,-372.21\"/>\n<polygon fill=\"black\" stroke=\"black\" points=\"282.18,-371.86 277.53,-362.34 275.23,-372.68 282.18,-371.86\"/>\n</g>\n<!-- 15 -->\n<g id=\"node16\" class=\"node\">\n<title>15</title>\n<polygon fill=\"aliceblue\" stroke=\"none\" points=\"194,-283 0,-283 0,-241 194,-241 194,-283\"/>\n<polygon fill=\"none\" stroke=\"black\" points=\"0,-241 0,-283 43,-283 43,-241 0,-241\"/>\n<text text-anchor=\"start\" x=\"14.5\" y=\"-265\" font-family=\"Linux libertine\" font-size=\"10.00\">cat</text>\n<text text-anchor=\"start\" x=\"5\" y=\"-254\" font-family=\"Linux libertine\" font-size=\"10.00\">depth:1</text>\n<polygon fill=\"none\" stroke=\"black\" points=\"43,-262 43,-283 87,-283 87,-262 43,-262\"/>\n<text text-anchor=\"start\" x=\"52.5\" y=\"-270\" font-family=\"Linux libertine\" font-size=\"10.00\">input:</text>\n<polygon fill=\"none\" stroke=\"black\" points=\"87,-262 87,-283 194,-283 194,-262 87,-262\"/>\n<text text-anchor=\"start\" x=\"92\" y=\"-270\" font-family=\"Linux libertine\" font-size=\"10.00\">(64, 15876), (64, 128) </text>\n<polygon fill=\"none\" stroke=\"black\" points=\"43,-241 43,-262 87,-262 87,-241 43,-241\"/>\n<text text-anchor=\"start\" x=\"48\" y=\"-249\" font-family=\"Linux libertine\" font-size=\"10.00\">output: </text>\n<polygon fill=\"none\" stroke=\"black\" points=\"87,-241 87,-262 194,-262 194,-241 87,-241\"/>\n<text text-anchor=\"start\" x=\"114.5\" y=\"-249\" font-family=\"Linux libertine\" font-size=\"10.00\">(64, 16004) </text>\n</g>\n<!-- 12&#45;&gt;15 -->\n<g id=\"edge13\" class=\"edge\">\n<title>12&#45;&gt;15</title>\n<path fill=\"none\" stroke=\"black\" d=\"M228.23,-319.03C205.53,-309.34 178.06,-297.61 154.13,-287.39\"/>\n<polygon fill=\"black\" stroke=\"black\" points=\"155.73,-284.27 145.16,-283.56 152.98,-290.71 155.73,-284.27\"/>\n</g>\n<!-- 14 -->\n<g id=\"node15\" class=\"node\">\n<title>14</title>\n<polygon fill=\"#c1ffc1\" stroke=\"none\" points=\"164.5,-361 25.5,-361 25.5,-319 164.5,-319 164.5,-361\"/>\n<polygon fill=\"none\" stroke=\"black\" points=\"26,-319 26,-361 69,-361 69,-319 26,-319\"/>\n<text text-anchor=\"start\" x=\"34.5\" y=\"-343\" font-family=\"Linux libertine\" font-size=\"10.00\">ReLU</text>\n<text text-anchor=\"start\" x=\"31\" y=\"-332\" font-family=\"Linux libertine\" font-size=\"10.00\">depth:2</text>\n<polygon fill=\"none\" stroke=\"black\" points=\"69,-340 69,-361 113,-361 113,-340 69,-340\"/>\n<text text-anchor=\"start\" x=\"78.5\" y=\"-348\" font-family=\"Linux libertine\" font-size=\"10.00\">input:</text>\n<polygon fill=\"none\" stroke=\"black\" points=\"113,-340 113,-361 165,-361 165,-340 113,-340\"/>\n<text text-anchor=\"start\" x=\"118\" y=\"-348\" font-family=\"Linux libertine\" font-size=\"10.00\">(64, 128) </text>\n<polygon fill=\"none\" stroke=\"black\" points=\"69,-319 69,-340 113,-340 113,-319 69,-319\"/>\n<text text-anchor=\"start\" x=\"74\" y=\"-327\" font-family=\"Linux libertine\" font-size=\"10.00\">output: </text>\n<polygon fill=\"none\" stroke=\"black\" points=\"113,-319 113,-340 165,-340 165,-319 113,-319\"/>\n<text text-anchor=\"start\" x=\"118\" y=\"-327\" font-family=\"Linux libertine\" font-size=\"10.00\">(64, 128) </text>\n</g>\n<!-- 13&#45;&gt;14 -->\n<g id=\"edge15\" class=\"edge\">\n<title>13&#45;&gt;14</title>\n<path fill=\"none\" stroke=\"black\" d=\"M95,-397.03C95,-389.44 95,-380.6 95,-372.21\"/>\n<polygon fill=\"black\" stroke=\"black\" points=\"98.5,-372.35 95,-362.35 91.5,-372.35 98.5,-372.35\"/>\n</g>\n<!-- 14&#45;&gt;15 -->\n<g id=\"edge16\" class=\"edge\">\n<title>14&#45;&gt;15</title>\n<path fill=\"none\" stroke=\"black\" d=\"M95.53,-319.03C95.73,-311.44 95.96,-302.6 96.18,-294.21\"/>\n<polygon fill=\"black\" stroke=\"black\" points=\"99.67,-294.44 96.44,-284.35 92.68,-294.25 99.67,-294.44\"/>\n</g>\n<!-- 16 -->\n<g id=\"node17\" class=\"node\">\n<title>16</title>\n<polygon fill=\"#c1ffc1\" stroke=\"none\" points=\"171.5,-204 22.5,-204 22.5,-162 171.5,-162 171.5,-204\"/>\n<polygon fill=\"none\" stroke=\"black\" points=\"23,-162 23,-204 66,-204 66,-162 23,-162\"/>\n<text text-anchor=\"start\" x=\"31\" y=\"-186\" font-family=\"Linux libertine\" font-size=\"10.00\">Linear</text>\n<text text-anchor=\"start\" x=\"28\" y=\"-175\" font-family=\"Linux libertine\" font-size=\"10.00\">depth:2</text>\n<polygon fill=\"none\" stroke=\"black\" points=\"66,-183 66,-204 110,-204 110,-183 66,-183\"/>\n<text text-anchor=\"start\" x=\"75.5\" y=\"-191\" font-family=\"Linux libertine\" font-size=\"10.00\">input:</text>\n<polygon fill=\"none\" stroke=\"black\" points=\"110,-183 110,-204 172,-204 172,-183 110,-183\"/>\n<text text-anchor=\"start\" x=\"115\" y=\"-191\" font-family=\"Linux libertine\" font-size=\"10.00\">(64, 16004) </text>\n<polygon fill=\"none\" stroke=\"black\" points=\"66,-162 66,-183 110,-183 110,-162 66,-162\"/>\n<text text-anchor=\"start\" x=\"71\" y=\"-170\" font-family=\"Linux libertine\" font-size=\"10.00\">output: </text>\n<polygon fill=\"none\" stroke=\"black\" points=\"110,-162 110,-183 172,-183 172,-162 110,-162\"/>\n<text text-anchor=\"start\" x=\"120\" y=\"-170\" font-family=\"Linux libertine\" font-size=\"10.00\">(64, 128) </text>\n</g>\n<!-- 15&#45;&gt;16 -->\n<g id=\"edge17\" class=\"edge\">\n<title>15&#45;&gt;16</title>\n<path fill=\"none\" stroke=\"black\" d=\"M97,-241.17C97,-233.27 97,-223.98 97,-215.21\"/>\n<polygon fill=\"black\" stroke=\"black\" points=\"100.5,-215.28 97,-205.28 93.5,-215.28 100.5,-215.28\"/>\n</g>\n<!-- 17 -->\n<g id=\"node18\" class=\"node\">\n<title>17</title>\n<polygon fill=\"#c1ffc1\" stroke=\"none\" points=\"166.5,-126 27.5,-126 27.5,-84 166.5,-84 166.5,-126\"/>\n<polygon fill=\"none\" stroke=\"black\" points=\"28,-84 28,-126 71,-126 71,-84 28,-84\"/>\n<text text-anchor=\"start\" x=\"36.5\" y=\"-108\" font-family=\"Linux libertine\" font-size=\"10.00\">ReLU</text>\n<text text-anchor=\"start\" x=\"33\" y=\"-97\" font-family=\"Linux libertine\" font-size=\"10.00\">depth:2</text>\n<polygon fill=\"none\" stroke=\"black\" points=\"71,-105 71,-126 115,-126 115,-105 71,-105\"/>\n<text text-anchor=\"start\" x=\"80.5\" y=\"-113\" font-family=\"Linux libertine\" font-size=\"10.00\">input:</text>\n<polygon fill=\"none\" stroke=\"black\" points=\"115,-105 115,-126 167,-126 167,-105 115,-105\"/>\n<text text-anchor=\"start\" x=\"120\" y=\"-113\" font-family=\"Linux libertine\" font-size=\"10.00\">(64, 128) </text>\n<polygon fill=\"none\" stroke=\"black\" points=\"71,-84 71,-105 115,-105 115,-84 71,-84\"/>\n<text text-anchor=\"start\" x=\"76\" y=\"-92\" font-family=\"Linux libertine\" font-size=\"10.00\">output: </text>\n<polygon fill=\"none\" stroke=\"black\" points=\"115,-84 115,-105 167,-105 167,-84 115,-84\"/>\n<text text-anchor=\"start\" x=\"120\" y=\"-92\" font-family=\"Linux libertine\" font-size=\"10.00\">(64, 128) </text>\n</g>\n<!-- 16&#45;&gt;17 -->\n<g id=\"edge18\" class=\"edge\">\n<title>16&#45;&gt;17</title>\n<path fill=\"none\" stroke=\"black\" d=\"M97,-162.03C97,-154.44 97,-145.6 97,-137.21\"/>\n<polygon fill=\"black\" stroke=\"black\" points=\"100.5,-137.35 97,-127.35 93.5,-137.35 100.5,-137.35\"/>\n</g>\n<!-- 18 -->\n<g id=\"node19\" class=\"node\">\n<title>18</title>\n<polygon fill=\"lightyellow\" stroke=\"none\" points=\"155.5,-48 38.5,-48 38.5,-16 155.5,-16 155.5,-48\"/>\n<polygon fill=\"none\" stroke=\"black\" points=\"39,-16 39,-48 107,-48 107,-16 39,-16\"/>\n<text text-anchor=\"start\" x=\"44\" y=\"-35\" font-family=\"Linux libertine\" font-size=\"10.00\">output&#45;tensor</text>\n<text text-anchor=\"start\" x=\"56.5\" y=\"-24\" font-family=\"Linux libertine\" font-size=\"10.00\">depth:0</text>\n<polygon fill=\"none\" stroke=\"black\" points=\"107,-16 107,-48 156,-48 156,-16 107,-16\"/>\n<text text-anchor=\"start\" x=\"112\" y=\"-29.5\" font-family=\"Linux libertine\" font-size=\"10.00\">(64, 128)</text>\n</g>\n<!-- 17&#45;&gt;18 -->\n<g id=\"edge19\" class=\"edge\">\n<title>17&#45;&gt;18</title>\n<path fill=\"none\" stroke=\"black\" d=\"M97,-84.22C97,-76.5 97,-67.54 97,-59.29\"/>\n<polygon fill=\"black\" stroke=\"black\" points=\"100.5,-59.46 97,-49.46 93.5,-59.46 100.5,-59.46\"/>\n</g>\n</g>\n</svg>\n",
      "text/plain": [
       "<graphviz.graphs.Digraph at 0x2e473bf70>"
      ]
     },
     "execution_count": 5,
     "metadata": {},
     "output_type": "execute_result"
    }
   ],
   "source": [
    "from torchview import draw_graph\n",
    "\n",
    "model_graph = draw_graph(network, input_size=(64, 12320), expand_nested=True)\n",
    "model_graph.visual_graph"
   ]
  },
  {
   "cell_type": "code",
   "execution_count": null,
   "metadata": {},
   "outputs": [],
   "source": []
  }
 ],
 "metadata": {
  "kernelspec": {
   "display_name": "cs234",
   "language": "python",
   "name": "python3"
  },
  "language_info": {
   "codemirror_mode": {
    "name": "ipython",
    "version": 3
   },
   "file_extension": ".py",
   "mimetype": "text/x-python",
   "name": "python",
   "nbconvert_exporter": "python",
   "pygments_lexer": "ipython3",
   "version": "3.9.16"
  },
  "orig_nbformat": 4
 },
 "nbformat": 4,
 "nbformat_minor": 2
}
