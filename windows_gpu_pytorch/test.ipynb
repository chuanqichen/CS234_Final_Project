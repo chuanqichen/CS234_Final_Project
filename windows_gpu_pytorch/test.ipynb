{
 "cells": [
  {
   "cell_type": "code",
   "execution_count": 2,
   "metadata": {},
   "outputs": [],
   "source": [
    "import numpy as np\n",
    "import pandas as pd\n",
    "import robosuite as suite\n",
    "from robosuite.controllers import load_controller_config\n",
    "from robosuite.utils.placement_samplers import UniformRandomSampler"
   ]
  },
  {
   "cell_type": "code",
   "execution_count": 2,
   "metadata": {},
   "outputs": [],
   "source": [
    "env = suite.make(\n",
    "    env_name=\"Stack\", # try with other tasks like \"Stack\" and \"Door\"\n",
    "    robots=\"Sawyer\",  # try with other robots like \"Sawyer\" and \"Jaco\"\n",
    "    has_renderer=True,  # can set to false for training\n",
    "    # controller_configs=controller_config,\n",
    "    render_camera=\"frontview\",\n",
    "    has_offscreen_renderer=True,\n",
    "    use_object_obs=True,\n",
    "    use_camera_obs=True,\n",
    "    camera_names=\"agentview\",\n",
    "    camera_heights=64,\n",
    "    camera_widths=64\n",
    ")"
   ]
  },
  {
   "cell_type": "code",
   "execution_count": 8,
   "metadata": {},
   "outputs": [],
   "source": [
    "import matplotlib.pyplot as plt"
   ]
  },
  {
   "cell_type": "code",
   "execution_count": 9,
   "metadata": {},
   "outputs": [
    {
     "data": {
      "text/plain": [
       "[<matplotlib.lines.Line2D at 0x2ef341250>]"
      ]
     },
     "execution_count": 9,
     "metadata": {},
     "output_type": "execute_result"
    },
    {
     "data": {
      "image/png": "[encoded data removed]",
      "text/plain": [
       "<Figure size 640x480 with 1 Axes>"
      ]
     },
     "metadata": {},
     "output_type": "display_data"
    }
   ],
   "source": [
    "plt.plot([1,2,3,4,])"
   ]
  },
  {
   "cell_type": "code",
   "execution_count": 7,
   "metadata": {},
   "outputs": [
    {
     "data": {
      "text/plain": [
       "OrderedDict([('robot0_joint_pos_cos', array([0., 0., 0., 0., 0., 0., 0.])),\n",
       "             ('robot0_joint_pos_sin', array([0., 0., 0., 0., 0., 0., 0.])),\n",
       "             ('robot0_joint_vel', array([0., 0., 0., 0., 0., 0., 0.])),\n",
       "             ('robot0_eef_pos', array([0., 0., 0.])),\n",
       "             ('robot0_eef_quat', array([0., 0., 0., 0.])),\n",
       "             ('robot0_gripper_qpos', array([0., 0.])),\n",
       "             ('robot0_gripper_qvel', array([0., 0.])),\n",
       "             ('agentview_image',\n",
       "              array([[[0., 0., 0.],\n",
       "                      [0., 0., 0.],\n",
       "                      [0., 0., 0.],\n",
       "                      ...,\n",
       "                      [0., 0., 0.],\n",
       "                      [0., 0., 0.],\n",
       "                      [0., 0., 0.]],\n",
       "              \n",
       "                     [[0., 0., 0.],\n",
       "                      [0., 0., 0.],\n",
       "                      [0., 0., 0.],\n",
       "                      ...,\n",
       "                      [0., 0., 0.],\n",
       "                      [0., 0., 0.],\n",
       "                      [0., 0., 0.]],\n",
       "              \n",
       "                     [[0., 0., 0.],\n",
       "                      [0., 0., 0.],\n",
       "                      [0., 0., 0.],\n",
       "                      ...,\n",
       "                      [0., 0., 0.],\n",
       "                      [0., 0., 0.],\n",
       "                      [0., 0., 0.]],\n",
       "              \n",
       "                     ...,\n",
       "              \n",
       "                     [[0., 0., 0.],\n",
       "                      [0., 0., 0.],\n",
       "                      [0., 0., 0.],\n",
       "                      ...,\n",
       "                      [0., 0., 0.],\n",
       "                      [0., 0., 0.],\n",
       "                      [0., 0., 0.]],\n",
       "              \n",
       "                     [[0., 0., 0.],\n",
       "                      [0., 0., 0.],\n",
       "                      [0., 0., 0.],\n",
       "                      ...,\n",
       "                      [0., 0., 0.],\n",
       "                      [0., 0., 0.],\n",
       "                      [0., 0., 0.]],\n",
       "              \n",
       "                     [[0., 0., 0.],\n",
       "                      [0., 0., 0.],\n",
       "                      [0., 0., 0.],\n",
       "                      ...,\n",
       "                      [0., 0., 0.],\n",
       "                      [0., 0., 0.],\n",
       "                      [0., 0., 0.]]])),\n",
       "             ('cubeA_pos', array([0., 0., 0.])),\n",
       "             ('cubeA_quat', array([0., 0., 0., 0.])),\n",
       "             ('cubeB_pos', array([0., 0., 0.])),\n",
       "             ('cubeB_quat', array([0., 0., 0., 0.])),\n",
       "             ('gripper_to_cubeA', array([0., 0., 0.])),\n",
       "             ('gripper_to_cubeB', array([0., 0., 0.])),\n",
       "             ('cubeA_to_cubeB', array([0., 0., 0.])),\n",
       "             ('robot0_proprio-state',\n",
       "              array([0., 0., 0., 0., 0., 0., 0., 0., 0., 0., 0., 0., 0., 0., 0., 0., 0.,\n",
       "                     0., 0., 0., 0., 0., 0., 0., 0., 0., 0., 0., 0., 0., 0., 0.])),\n",
       "             ('object-state',\n",
       "              array([0., 0., 0., 0., 0., 0., 0., 0., 0., 0., 0., 0., 0., 0., 0., 0., 0.,\n",
       "                     0., 0., 0., 0., 0., 0.]))])"
      ]
     },
     "execution_count": 7,
     "metadata": {},
     "output_type": "execute_result"
    }
   ],
   "source": [
    "env.observation_spec()"
   ]
  },
  {
   "cell_type": "code",
   "execution_count": 109,
   "metadata": {},
   "outputs": [
    {
     "name": "stdout",
     "output_type": "stream",
     "text": [
      "i: 600/600\r"
     ]
    }
   ],
   "source": [
    "# reset the environment\n",
    "env.reset()\n",
    "imgs = []\n",
    "observations = []\n",
    "actions = []\n",
    "rewards = []\n",
    "for i in range(600):\n",
    "    print(f\"i: {i+1}/600\", end=\"\\r\")\n",
    "    action = np.random.randn(8) # sample random action\n",
    "    actions.append(action)\n",
    "    obs, reward, done, info = env.step(action)  # take action in the environment\n",
    "    imgs.append(obs[\"agentview_image\"])\n",
    "    obs.pop(\"agentview_image\", \"\")\n",
    "    observations.append(obs)\n",
    "    rewards.append(reward)\n",
    "    # print(reward)\n",
    "    "
   ]
  },
  {
   "cell_type": "code",
   "execution_count": 55,
   "metadata": {},
   "outputs": [],
   "source": [
    "j = imgs[0]"
   ]
  },
  {
   "cell_type": "code",
   "execution_count": 56,
   "metadata": {},
   "outputs": [],
   "source": [
    "k = imgs[0]"
   ]
  },
  {
   "cell_type": "code",
   "execution_count": 57,
   "metadata": {},
   "outputs": [
    {
     "data": {
      "text/plain": [
       "12288"
      ]
     },
     "execution_count": 57,
     "metadata": {},
     "output_type": "execute_result"
    }
   ],
   "source": [
    "(j == k).sum()"
   ]
  },
  {
   "cell_type": "code",
   "execution_count": 58,
   "metadata": {},
   "outputs": [],
   "source": [
    "j = j.flatten()\n",
    "j = j.reshape(64,64,3)"
   ]
  },
  {
   "cell_type": "code",
   "execution_count": 59,
   "metadata": {},
   "outputs": [
    {
     "data": {
      "text/plain": [
       "12288"
      ]
     },
     "execution_count": 59,
     "metadata": {},
     "output_type": "execute_result"
    }
   ],
   "source": [
    "(j == k).sum()"
   ]
  },
  {
   "cell_type": "code",
   "execution_count": 89,
   "metadata": {},
   "outputs": [],
   "source": [
    "df_obs = pd.DataFrame()\n",
    "df_imgs = pd.DataFrame()"
   ]
  },
  {
   "cell_type": "code",
   "execution_count": 97,
   "metadata": {},
   "outputs": [],
   "source": [
    "sample_obs = observations[0]\n",
    "state_dims = {key: sample_obs[key].shape for key in sample_obs.keys()}\n",
    "\n",
    "observations_flatten = [np.concatenate([obs[k] for k in state_dims]) for obs in observations]\n",
    "imgs_flatten = [img.flatten() for img in imgs]\n",
    "\n",
    "df_actions = pd.DataFrame(actions)\n",
    "df_obs_trajectory = pd.DataFrame(observations_flatten)\n",
    "df_obs_trajectory = pd.concat([df_obs_trajectory, df_actions], axis=1)\n",
    "df_obs_trajectory[\"rewards\"] = rewards\n",
    "df_obs_trajectory[\"trajectory_id\"] = \n",
    "df_imgs_trajectory = pd.DataFrame(imgs_flatten)\n",
    "df_imgs_trajectory = pd.concat([df_imgs_trajectory, df_actions], axis=1)\n",
    "df_imgs_trajectory[\"rewards\"] = rewards\n",
    "df_imgs_trajectory[\"trajectory_id\"] = \n",
    "\n",
    "df_obs = pd.concat([df_obs, df_obs_trajectory], axis=0)\n",
    "df_imgs = pd.concat([df_imgs, df_imgs_trajectory], axis=0)"
   ]
  },
  {
   "cell_type": "code",
   "execution_count": 98,
   "metadata": {},
   "outputs": [],
   "source": [
    "actions_df = pd.DataFrame(actions)"
   ]
  },
  {
   "cell_type": "code",
   "execution_count": 111,
   "metadata": {},
   "outputs": [],
   "source": [
    "l = env.reset()"
   ]
  },
  {
   "cell_type": "code",
   "execution_count": 113,
   "metadata": {},
   "outputs": [
    {
     "data": {
      "text/plain": [
       "odict_keys(['robot0_joint_pos_cos', 'robot0_joint_pos_sin', 'robot0_joint_vel', 'robot0_eef_pos', 'robot0_eef_quat', 'robot0_gripper_qpos', 'robot0_gripper_qvel', 'agentview_image', 'cubeA_pos', 'cubeA_quat', 'cubeB_pos', 'cubeB_quat', 'gripper_to_cubeA', 'gripper_to_cubeB', 'cubeA_to_cubeB', 'robot0_proprio-state', 'object-state'])"
      ]
     },
     "execution_count": 113,
     "metadata": {},
     "output_type": "execute_result"
    }
   ],
   "source": [
    "l.keys()"
   ]
  },
  {
   "cell_type": "code",
   "execution_count": 101,
   "metadata": {},
   "outputs": [],
   "source": [
    "actions_df.columns = [f\"a_{i}\" for i in range(actions_df.shape[1])]"
   ]
  },
  {
   "cell_type": "code",
   "execution_count": 108,
   "metadata": {},
   "outputs": [
    {
     "data": {
      "text/plain": [
       "(600, 118)"
      ]
     },
     "execution_count": 108,
     "metadata": {},
     "output_type": "execute_result"
    }
   ],
   "source": [
    "pd.concat([df_obs_trajectory, actions_df], axis=1)"
   ]
  },
  {
   "cell_type": "code",
   "execution_count": 102,
   "metadata": {},
   "outputs": [
    {
     "data": {
      "text/html": [
       "<div>\n",
       "<style scoped>\n",
       "    .dataframe tbody tr th:only-of-type {\n",
       "        vertical-align: middle;\n",
       "    }\n",
       "\n",
       "    .dataframe tbody tr th {\n",
       "        vertical-align: top;\n",
       "    }\n",
       "\n",
       "    .dataframe thead th {\n",
       "        text-align: right;\n",
       "    }\n",
       "</style>\n",
       "<table border=\"1\" class=\"dataframe\">\n",
       "  <thead>\n",
       "    <tr style=\"text-align: right;\">\n",
       "      <th></th>\n",
       "      <th>a_0</th>\n",
       "      <th>a_1</th>\n",
       "      <th>a_2</th>\n",
       "      <th>a_3</th>\n",
       "      <th>a_4</th>\n",
       "      <th>a_5</th>\n",
       "      <th>a_6</th>\n",
       "      <th>a_7</th>\n",
       "    </tr>\n",
       "  </thead>\n",
       "  <tbody>\n",
       "    <tr>\n",
       "      <th>0</th>\n",
       "      <td>0.059925</td>\n",
       "      <td>1.209666</td>\n",
       "      <td>-0.473401</td>\n",
       "      <td>-0.118692</td>\n",
       "      <td>1.613987</td>\n",
       "      <td>-0.276385</td>\n",
       "      <td>0.094057</td>\n",
       "      <td>-1.307758</td>\n",
       "    </tr>\n",
       "    <tr>\n",
       "      <th>1</th>\n",
       "      <td>0.335512</td>\n",
       "      <td>-0.250625</td>\n",
       "      <td>-0.183301</td>\n",
       "      <td>0.816143</td>\n",
       "      <td>0.683491</td>\n",
       "      <td>0.639478</td>\n",
       "      <td>-1.444258</td>\n",
       "      <td>-0.145904</td>\n",
       "    </tr>\n",
       "    <tr>\n",
       "      <th>2</th>\n",
       "      <td>-0.969340</td>\n",
       "      <td>-0.130087</td>\n",
       "      <td>0.262630</td>\n",
       "      <td>-0.556751</td>\n",
       "      <td>1.088770</td>\n",
       "      <td>1.937205</td>\n",
       "      <td>-1.884703</td>\n",
       "      <td>1.220683</td>\n",
       "    </tr>\n",
       "    <tr>\n",
       "      <th>3</th>\n",
       "      <td>1.605825</td>\n",
       "      <td>-0.241532</td>\n",
       "      <td>-1.828971</td>\n",
       "      <td>0.845921</td>\n",
       "      <td>0.173258</td>\n",
       "      <td>0.794198</td>\n",
       "      <td>1.255562</td>\n",
       "      <td>-0.628589</td>\n",
       "    </tr>\n",
       "    <tr>\n",
       "      <th>4</th>\n",
       "      <td>0.809574</td>\n",
       "      <td>0.373893</td>\n",
       "      <td>-0.609250</td>\n",
       "      <td>2.085085</td>\n",
       "      <td>-0.679961</td>\n",
       "      <td>-0.165316</td>\n",
       "      <td>1.623559</td>\n",
       "      <td>0.680750</td>\n",
       "    </tr>\n",
       "    <tr>\n",
       "      <th>...</th>\n",
       "      <td>...</td>\n",
       "      <td>...</td>\n",
       "      <td>...</td>\n",
       "      <td>...</td>\n",
       "      <td>...</td>\n",
       "      <td>...</td>\n",
       "      <td>...</td>\n",
       "      <td>...</td>\n",
       "    </tr>\n",
       "    <tr>\n",
       "      <th>595</th>\n",
       "      <td>0.854345</td>\n",
       "      <td>1.566736</td>\n",
       "      <td>0.965977</td>\n",
       "      <td>0.621369</td>\n",
       "      <td>-1.125431</td>\n",
       "      <td>0.990482</td>\n",
       "      <td>-0.716988</td>\n",
       "      <td>-0.259362</td>\n",
       "    </tr>\n",
       "    <tr>\n",
       "      <th>596</th>\n",
       "      <td>0.191724</td>\n",
       "      <td>-1.419421</td>\n",
       "      <td>-2.449507</td>\n",
       "      <td>-0.820949</td>\n",
       "      <td>-0.347160</td>\n",
       "      <td>0.162394</td>\n",
       "      <td>0.968212</td>\n",
       "      <td>-0.466289</td>\n",
       "    </tr>\n",
       "    <tr>\n",
       "      <th>597</th>\n",
       "      <td>1.409548</td>\n",
       "      <td>1.307066</td>\n",
       "      <td>0.693465</td>\n",
       "      <td>0.537546</td>\n",
       "      <td>-1.637406</td>\n",
       "      <td>-0.578489</td>\n",
       "      <td>0.286084</td>\n",
       "      <td>0.928351</td>\n",
       "    </tr>\n",
       "    <tr>\n",
       "      <th>598</th>\n",
       "      <td>0.644862</td>\n",
       "      <td>1.383960</td>\n",
       "      <td>0.656969</td>\n",
       "      <td>1.098774</td>\n",
       "      <td>-1.728218</td>\n",
       "      <td>-0.171786</td>\n",
       "      <td>-0.419855</td>\n",
       "      <td>-0.557478</td>\n",
       "    </tr>\n",
       "    <tr>\n",
       "      <th>599</th>\n",
       "      <td>-1.184390</td>\n",
       "      <td>0.072776</td>\n",
       "      <td>-0.316873</td>\n",
       "      <td>-1.097831</td>\n",
       "      <td>0.442796</td>\n",
       "      <td>1.143494</td>\n",
       "      <td>0.928796</td>\n",
       "      <td>-2.097003</td>\n",
       "    </tr>\n",
       "  </tbody>\n",
       "</table>\n",
       "<p>600 rows × 8 columns</p>\n",
       "</div>"
      ],
      "text/plain": [
       "          a_0       a_1       a_2       a_3       a_4       a_5       a_6  \\\n",
       "0    0.059925  1.209666 -0.473401 -0.118692  1.613987 -0.276385  0.094057   \n",
       "1    0.335512 -0.250625 -0.183301  0.816143  0.683491  0.639478 -1.444258   \n",
       "2   -0.969340 -0.130087  0.262630 -0.556751  1.088770  1.937205 -1.884703   \n",
       "3    1.605825 -0.241532 -1.828971  0.845921  0.173258  0.794198  1.255562   \n",
       "4    0.809574  0.373893 -0.609250  2.085085 -0.679961 -0.165316  1.623559   \n",
       "..        ...       ...       ...       ...       ...       ...       ...   \n",
       "595  0.854345  1.566736  0.965977  0.621369 -1.125431  0.990482 -0.716988   \n",
       "596  0.191724 -1.419421 -2.449507 -0.820949 -0.347160  0.162394  0.968212   \n",
       "597  1.409548  1.307066  0.693465  0.537546 -1.637406 -0.578489  0.286084   \n",
       "598  0.644862  1.383960  0.656969  1.098774 -1.728218 -0.171786 -0.419855   \n",
       "599 -1.184390  0.072776 -0.316873 -1.097831  0.442796  1.143494  0.928796   \n",
       "\n",
       "          a_7  \n",
       "0   -1.307758  \n",
       "1   -0.145904  \n",
       "2    1.220683  \n",
       "3   -0.628589  \n",
       "4    0.680750  \n",
       "..        ...  \n",
       "595 -0.259362  \n",
       "596 -0.466289  \n",
       "597  0.928351  \n",
       "598 -0.557478  \n",
       "599 -2.097003  \n",
       "\n",
       "[600 rows x 8 columns]"
      ]
     },
     "execution_count": 102,
     "metadata": {},
     "output_type": "execute_result"
    }
   ],
   "source": [
    "actions_df"
   ]
  },
  {
   "cell_type": "code",
   "execution_count": 92,
   "metadata": {},
   "outputs": [],
   "source": [
    "actions_flatten = [action.flatten() for action in actions]"
   ]
  },
  {
   "cell_type": "code",
   "execution_count": 86,
   "metadata": {},
   "outputs": [],
   "source": [
    "df2 = pd.DataFrame(observations_flatten)"
   ]
  },
  {
   "cell_type": "code",
   "execution_count": 87,
   "metadata": {},
   "outputs": [
    {
     "data": {
      "text/html": [
       "<div>\n",
       "<style scoped>\n",
       "    .dataframe tbody tr th:only-of-type {\n",
       "        vertical-align: middle;\n",
       "    }\n",
       "\n",
       "    .dataframe tbody tr th {\n",
       "        vertical-align: top;\n",
       "    }\n",
       "\n",
       "    .dataframe thead th {\n",
       "        text-align: right;\n",
       "    }\n",
       "</style>\n",
       "<table border=\"1\" class=\"dataframe\">\n",
       "  <thead>\n",
       "    <tr style=\"text-align: right;\">\n",
       "      <th></th>\n",
       "      <th>0</th>\n",
       "      <th>1</th>\n",
       "      <th>2</th>\n",
       "      <th>3</th>\n",
       "      <th>4</th>\n",
       "      <th>5</th>\n",
       "      <th>6</th>\n",
       "      <th>7</th>\n",
       "      <th>8</th>\n",
       "      <th>9</th>\n",
       "      <th>...</th>\n",
       "      <th>100</th>\n",
       "      <th>101</th>\n",
       "      <th>102</th>\n",
       "      <th>103</th>\n",
       "      <th>104</th>\n",
       "      <th>105</th>\n",
       "      <th>106</th>\n",
       "      <th>107</th>\n",
       "      <th>108</th>\n",
       "      <th>109</th>\n",
       "    </tr>\n",
       "  </thead>\n",
       "  <tbody>\n",
       "    <tr>\n",
       "      <th>0</th>\n",
       "      <td>0.999426</td>\n",
       "      <td>0.393532</td>\n",
       "      <td>0.999999</td>\n",
       "      <td>-0.549790</td>\n",
       "      <td>0.999976</td>\n",
       "      <td>0.832864</td>\n",
       "      <td>0.017532</td>\n",
       "      <td>-0.033865</td>\n",
       "      <td>-0.919311</td>\n",
       "      <td>-0.001349</td>\n",
       "      <td>...</td>\n",
       "      <td>0.201323</td>\n",
       "      <td>0.096999</td>\n",
       "      <td>-0.209621</td>\n",
       "      <td>-0.202136</td>\n",
       "      <td>0.034292</td>\n",
       "      <td>-0.168773</td>\n",
       "      <td>-0.197136</td>\n",
       "      <td>-0.062707</td>\n",
       "      <td>0.040848</td>\n",
       "      <td>0.005</td>\n",
       "    </tr>\n",
       "    <tr>\n",
       "      <th>1</th>\n",
       "      <td>0.999435</td>\n",
       "      <td>0.394295</td>\n",
       "      <td>0.999999</td>\n",
       "      <td>-0.548539</td>\n",
       "      <td>0.999977</td>\n",
       "      <td>0.832757</td>\n",
       "      <td>0.018149</td>\n",
       "      <td>-0.033615</td>\n",
       "      <td>-0.918984</td>\n",
       "      <td>-0.001626</td>\n",
       "      <td>...</td>\n",
       "      <td>0.201323</td>\n",
       "      <td>0.096397</td>\n",
       "      <td>-0.209597</td>\n",
       "      <td>-0.203282</td>\n",
       "      <td>0.033690</td>\n",
       "      <td>-0.168748</td>\n",
       "      <td>-0.198282</td>\n",
       "      <td>-0.062707</td>\n",
       "      <td>0.040848</td>\n",
       "      <td>0.005</td>\n",
       "    </tr>\n",
       "    <tr>\n",
       "      <th>2</th>\n",
       "      <td>0.999463</td>\n",
       "      <td>0.396460</td>\n",
       "      <td>0.999998</td>\n",
       "      <td>-0.547751</td>\n",
       "      <td>0.999974</td>\n",
       "      <td>0.832569</td>\n",
       "      <td>0.018884</td>\n",
       "      <td>-0.032776</td>\n",
       "      <td>-0.918052</td>\n",
       "      <td>-0.002059</td>\n",
       "      <td>...</td>\n",
       "      <td>0.201323</td>\n",
       "      <td>0.096491</td>\n",
       "      <td>-0.209814</td>\n",
       "      <td>-0.201372</td>\n",
       "      <td>0.033784</td>\n",
       "      <td>-0.168966</td>\n",
       "      <td>-0.196372</td>\n",
       "      <td>-0.062707</td>\n",
       "      <td>0.040848</td>\n",
       "      <td>0.005</td>\n",
       "    </tr>\n",
       "    <tr>\n",
       "      <th>3</th>\n",
       "      <td>0.999489</td>\n",
       "      <td>0.399756</td>\n",
       "      <td>0.999996</td>\n",
       "      <td>-0.546756</td>\n",
       "      <td>0.999972</td>\n",
       "      <td>0.832414</td>\n",
       "      <td>0.018999</td>\n",
       "      <td>-0.031959</td>\n",
       "      <td>-0.916622</td>\n",
       "      <td>-0.002680</td>\n",
       "      <td>...</td>\n",
       "      <td>0.201323</td>\n",
       "      <td>0.096754</td>\n",
       "      <td>-0.210018</td>\n",
       "      <td>-0.199697</td>\n",
       "      <td>0.034046</td>\n",
       "      <td>-0.169169</td>\n",
       "      <td>-0.194697</td>\n",
       "      <td>-0.062707</td>\n",
       "      <td>0.040848</td>\n",
       "      <td>0.005</td>\n",
       "    </tr>\n",
       "    <tr>\n",
       "      <th>4</th>\n",
       "      <td>0.999514</td>\n",
       "      <td>0.403567</td>\n",
       "      <td>0.999989</td>\n",
       "      <td>-0.544458</td>\n",
       "      <td>0.999969</td>\n",
       "      <td>0.832057</td>\n",
       "      <td>0.018949</td>\n",
       "      <td>-0.031173</td>\n",
       "      <td>-0.914950</td>\n",
       "      <td>-0.004695</td>\n",
       "      <td>...</td>\n",
       "      <td>0.201323</td>\n",
       "      <td>0.096387</td>\n",
       "      <td>-0.209557</td>\n",
       "      <td>-0.198484</td>\n",
       "      <td>0.033680</td>\n",
       "      <td>-0.168708</td>\n",
       "      <td>-0.193484</td>\n",
       "      <td>-0.062707</td>\n",
       "      <td>0.040848</td>\n",
       "      <td>0.005</td>\n",
       "    </tr>\n",
       "    <tr>\n",
       "      <th>...</th>\n",
       "      <td>...</td>\n",
       "      <td>...</td>\n",
       "      <td>...</td>\n",
       "      <td>...</td>\n",
       "      <td>...</td>\n",
       "      <td>...</td>\n",
       "      <td>...</td>\n",
       "      <td>...</td>\n",
       "      <td>...</td>\n",
       "      <td>...</td>\n",
       "      <td>...</td>\n",
       "      <td>...</td>\n",
       "      <td>...</td>\n",
       "      <td>...</td>\n",
       "      <td>...</td>\n",
       "      <td>...</td>\n",
       "      <td>...</td>\n",
       "      <td>...</td>\n",
       "      <td>...</td>\n",
       "      <td>...</td>\n",
       "      <td>...</td>\n",
       "    </tr>\n",
       "    <tr>\n",
       "      <th>595</th>\n",
       "      <td>0.976291</td>\n",
       "      <td>0.148032</td>\n",
       "      <td>0.965468</td>\n",
       "      <td>0.258486</td>\n",
       "      <td>0.995327</td>\n",
       "      <td>0.719703</td>\n",
       "      <td>0.050677</td>\n",
       "      <td>0.216461</td>\n",
       "      <td>-0.988983</td>\n",
       "      <td>0.260523</td>\n",
       "      <td>...</td>\n",
       "      <td>0.201323</td>\n",
       "      <td>-0.062639</td>\n",
       "      <td>-0.542774</td>\n",
       "      <td>-0.718375</td>\n",
       "      <td>-0.125346</td>\n",
       "      <td>-0.501925</td>\n",
       "      <td>-0.713375</td>\n",
       "      <td>-0.062707</td>\n",
       "      <td>0.040848</td>\n",
       "      <td>0.005</td>\n",
       "    </tr>\n",
       "    <tr>\n",
       "      <th>596</th>\n",
       "      <td>0.977282</td>\n",
       "      <td>0.151786</td>\n",
       "      <td>0.965419</td>\n",
       "      <td>0.256037</td>\n",
       "      <td>0.995326</td>\n",
       "      <td>0.719341</td>\n",
       "      <td>0.050889</td>\n",
       "      <td>0.211942</td>\n",
       "      <td>-0.988413</td>\n",
       "      <td>0.260704</td>\n",
       "      <td>...</td>\n",
       "      <td>0.201323</td>\n",
       "      <td>-0.065646</td>\n",
       "      <td>-0.540186</td>\n",
       "      <td>-0.714341</td>\n",
       "      <td>-0.128354</td>\n",
       "      <td>-0.499338</td>\n",
       "      <td>-0.709341</td>\n",
       "      <td>-0.062707</td>\n",
       "      <td>0.040848</td>\n",
       "      <td>0.005</td>\n",
       "    </tr>\n",
       "    <tr>\n",
       "      <th>597</th>\n",
       "      <td>0.978334</td>\n",
       "      <td>0.154819</td>\n",
       "      <td>0.965428</td>\n",
       "      <td>0.254775</td>\n",
       "      <td>0.995310</td>\n",
       "      <td>0.718409</td>\n",
       "      <td>0.051031</td>\n",
       "      <td>0.207034</td>\n",
       "      <td>-0.987943</td>\n",
       "      <td>0.260671</td>\n",
       "      <td>...</td>\n",
       "      <td>0.201323</td>\n",
       "      <td>-0.068609</td>\n",
       "      <td>-0.537147</td>\n",
       "      <td>-0.711365</td>\n",
       "      <td>-0.131316</td>\n",
       "      <td>-0.496299</td>\n",
       "      <td>-0.706365</td>\n",
       "      <td>-0.062707</td>\n",
       "      <td>0.040848</td>\n",
       "      <td>0.005</td>\n",
       "    </tr>\n",
       "    <tr>\n",
       "      <th>598</th>\n",
       "      <td>0.979516</td>\n",
       "      <td>0.158164</td>\n",
       "      <td>0.965443</td>\n",
       "      <td>0.254773</td>\n",
       "      <td>0.995288</td>\n",
       "      <td>0.716963</td>\n",
       "      <td>0.051249</td>\n",
       "      <td>0.201368</td>\n",
       "      <td>-0.987413</td>\n",
       "      <td>0.260613</td>\n",
       "      <td>...</td>\n",
       "      <td>0.201323</td>\n",
       "      <td>-0.072001</td>\n",
       "      <td>-0.533632</td>\n",
       "      <td>-0.708860</td>\n",
       "      <td>-0.134708</td>\n",
       "      <td>-0.492783</td>\n",
       "      <td>-0.703860</td>\n",
       "      <td>-0.062707</td>\n",
       "      <td>0.040848</td>\n",
       "      <td>0.005</td>\n",
       "    </tr>\n",
       "    <tr>\n",
       "      <th>599</th>\n",
       "      <td>0.980710</td>\n",
       "      <td>0.161542</td>\n",
       "      <td>0.965377</td>\n",
       "      <td>0.254288</td>\n",
       "      <td>0.995288</td>\n",
       "      <td>0.715298</td>\n",
       "      <td>0.051265</td>\n",
       "      <td>0.195469</td>\n",
       "      <td>-0.986866</td>\n",
       "      <td>0.260861</td>\n",
       "      <td>...</td>\n",
       "      <td>0.201323</td>\n",
       "      <td>-0.075378</td>\n",
       "      <td>-0.530007</td>\n",
       "      <td>-0.705979</td>\n",
       "      <td>-0.138085</td>\n",
       "      <td>-0.489159</td>\n",
       "      <td>-0.700979</td>\n",
       "      <td>-0.062707</td>\n",
       "      <td>0.040848</td>\n",
       "      <td>0.005</td>\n",
       "    </tr>\n",
       "  </tbody>\n",
       "</table>\n",
       "<p>600 rows × 110 columns</p>\n",
       "</div>"
      ],
      "text/plain": [
       "          0         1         2         3         4         5         6    \\\n",
       "0    0.999426  0.393532  0.999999 -0.549790  0.999976  0.832864  0.017532   \n",
       "1    0.999435  0.394295  0.999999 -0.548539  0.999977  0.832757  0.018149   \n",
       "2    0.999463  0.396460  0.999998 -0.547751  0.999974  0.832569  0.018884   \n",
       "3    0.999489  0.399756  0.999996 -0.546756  0.999972  0.832414  0.018999   \n",
       "4    0.999514  0.403567  0.999989 -0.544458  0.999969  0.832057  0.018949   \n",
       "..        ...       ...       ...       ...       ...       ...       ...   \n",
       "595  0.976291  0.148032  0.965468  0.258486  0.995327  0.719703  0.050677   \n",
       "596  0.977282  0.151786  0.965419  0.256037  0.995326  0.719341  0.050889   \n",
       "597  0.978334  0.154819  0.965428  0.254775  0.995310  0.718409  0.051031   \n",
       "598  0.979516  0.158164  0.965443  0.254773  0.995288  0.716963  0.051249   \n",
       "599  0.980710  0.161542  0.965377  0.254288  0.995288  0.715298  0.051265   \n",
       "\n",
       "          7         8         9    ...       100       101       102  \\\n",
       "0   -0.033865 -0.919311 -0.001349  ...  0.201323  0.096999 -0.209621   \n",
       "1   -0.033615 -0.918984 -0.001626  ...  0.201323  0.096397 -0.209597   \n",
       "2   -0.032776 -0.918052 -0.002059  ...  0.201323  0.096491 -0.209814   \n",
       "3   -0.031959 -0.916622 -0.002680  ...  0.201323  0.096754 -0.210018   \n",
       "4   -0.031173 -0.914950 -0.004695  ...  0.201323  0.096387 -0.209557   \n",
       "..        ...       ...       ...  ...       ...       ...       ...   \n",
       "595  0.216461 -0.988983  0.260523  ...  0.201323 -0.062639 -0.542774   \n",
       "596  0.211942 -0.988413  0.260704  ...  0.201323 -0.065646 -0.540186   \n",
       "597  0.207034 -0.987943  0.260671  ...  0.201323 -0.068609 -0.537147   \n",
       "598  0.201368 -0.987413  0.260613  ...  0.201323 -0.072001 -0.533632   \n",
       "599  0.195469 -0.986866  0.260861  ...  0.201323 -0.075378 -0.530007   \n",
       "\n",
       "          103       104       105       106       107       108    109  \n",
       "0   -0.202136  0.034292 -0.168773 -0.197136 -0.062707  0.040848  0.005  \n",
       "1   -0.203282  0.033690 -0.168748 -0.198282 -0.062707  0.040848  0.005  \n",
       "2   -0.201372  0.033784 -0.168966 -0.196372 -0.062707  0.040848  0.005  \n",
       "3   -0.199697  0.034046 -0.169169 -0.194697 -0.062707  0.040848  0.005  \n",
       "4   -0.198484  0.033680 -0.168708 -0.193484 -0.062707  0.040848  0.005  \n",
       "..        ...       ...       ...       ...       ...       ...    ...  \n",
       "595 -0.718375 -0.125346 -0.501925 -0.713375 -0.062707  0.040848  0.005  \n",
       "596 -0.714341 -0.128354 -0.499338 -0.709341 -0.062707  0.040848  0.005  \n",
       "597 -0.711365 -0.131316 -0.496299 -0.706365 -0.062707  0.040848  0.005  \n",
       "598 -0.708860 -0.134708 -0.492783 -0.703860 -0.062707  0.040848  0.005  \n",
       "599 -0.705979 -0.138085 -0.489159 -0.700979 -0.062707  0.040848  0.005  \n",
       "\n",
       "[600 rows x 110 columns]"
      ]
     },
     "execution_count": 87,
     "metadata": {},
     "output_type": "execute_result"
    }
   ],
   "source": [
    "pd.concat([df, df2])"
   ]
  },
  {
   "cell_type": "code",
   "execution_count": 62,
   "metadata": {},
   "outputs": [],
   "source": [
    "\n",
    "test_df = pd.DataFrame(observations)"
   ]
  },
  {
   "cell_type": "code",
   "execution_count": 64,
   "metadata": {},
   "outputs": [],
   "source": [
    "test_df.to_csv(\"te.csv\", header=False, index=False)"
   ]
  },
  {
   "cell_type": "code",
   "execution_count": 65,
   "metadata": {},
   "outputs": [],
   "source": [
    "test_df = pd.read_csv(\"te.csv\")"
   ]
  },
  {
   "cell_type": "code",
   "execution_count": 49,
   "metadata": {},
   "outputs": [
    {
     "data": {
      "text/plain": [
       "{'robot0_joint_pos_cos': (7,),\n",
       " 'robot0_joint_pos_sin': (7,),\n",
       " 'robot0_joint_vel': (7,),\n",
       " 'robot0_eef_pos': (3,),\n",
       " 'robot0_eef_quat': (4,),\n",
       " 'robot0_gripper_qpos': (2,),\n",
       " 'robot0_gripper_qvel': (2,),\n",
       " 'cubeA_pos': (3,),\n",
       " 'cubeA_quat': (4,),\n",
       " 'cubeB_pos': (3,),\n",
       " 'cubeB_quat': (4,),\n",
       " 'gripper_to_cubeA': (3,),\n",
       " 'gripper_to_cubeB': (3,),\n",
       " 'cubeA_to_cubeB': (3,),\n",
       " 'robot0_proprio-state': (32,),\n",
       " 'object-state': (23,)}"
      ]
     },
     "execution_count": 49,
     "metadata": {},
     "output_type": "execute_result"
    }
   ],
   "source": [
    "state_dims"
   ]
  },
  {
   "cell_type": "code",
   "execution_count": 36,
   "metadata": {},
   "outputs": [
    {
     "data": {
      "text/plain": [
       "['robot0_joint_pos_cos',\n",
       " 'robot0_joint_pos_sin',\n",
       " 'robot0_joint_vel',\n",
       " 'robot0_eef_pos',\n",
       " 'robot0_eef_quat',\n",
       " 'robot0_gripper_qpos',\n",
       " 'robot0_gripper_qvel',\n",
       " 'agentview_image',\n",
       " 'cubeA_pos',\n",
       " 'cubeA_quat',\n",
       " 'cubeB_pos',\n",
       " 'cubeB_quat',\n",
       " 'gripper_to_cubeA',\n",
       " 'gripper_to_cubeB',\n",
       " 'cubeA_to_cubeB',\n",
       " 'robot0_proprio-state',\n",
       " 'object-state']"
      ]
     },
     "execution_count": 36,
     "metadata": {},
     "output_type": "execute_result"
    }
   ],
   "source": [
    "list(k.keys())"
   ]
  },
  {
   "cell_type": "code",
   "execution_count": 31,
   "metadata": {},
   "outputs": [],
   "source": [
    "l = k[\"agentview_image\"]"
   ]
  },
  {
   "cell_type": "code",
   "execution_count": 1,
   "metadata": {},
   "outputs": [],
   "source": [
    "import torch"
   ]
  },
  {
   "cell_type": "code",
   "execution_count": 6,
   "metadata": {},
   "outputs": [],
   "source": [
    "k = torch.tensor([[1,2,3],[2,3,4],[3,4,5],[3,2,4]])"
   ]
  },
  {
   "cell_type": "code",
   "execution_count": 9,
   "metadata": {},
   "outputs": [
    {
     "data": {
      "text/plain": [
       "tensor([[1, 2],\n",
       "        [2, 3],\n",
       "        [3, 4],\n",
       "        [3, 2]])"
      ]
     },
     "execution_count": 9,
     "metadata": {},
     "output_type": "execute_result"
    }
   ],
   "source": [
    "k[:,:2]"
   ]
  },
  {
   "cell_type": "code",
   "execution_count": null,
   "metadata": {},
   "outputs": [],
   "source": [
    "j = l"
   ]
  },
  {
   "cell_type": "code",
   "execution_count": 33,
   "metadata": {},
   "outputs": [],
   "source": [
    "l = l.flatten()"
   ]
  },
  {
   "cell_type": "code",
   "execution_count": 34,
   "metadata": {},
   "outputs": [],
   "source": [
    "l = l.reshape(84, 84, 3)"
   ]
  },
  {
   "cell_type": "code",
   "execution_count": 35,
   "metadata": {},
   "outputs": [
    {
     "data": {
      "text/plain": [
       "21168"
      ]
     },
     "execution_count": 35,
     "metadata": {},
     "output_type": "execute_result"
    }
   ],
   "source": [
    "(j == l).sum()"
   ]
  },
  {
   "cell_type": "code",
   "execution_count": 5,
   "metadata": {},
   "outputs": [],
   "source": [
    "controller_config = load_controller_config(default_controller=\"OSC_POSE\")\n",
    "\n",
    "# create environment instance\n",
    "env = suite.make(\n",
    "    env_name=\"Stack\", # try with other tasks like \"Stack\" and \"Door\"\n",
    "    robots=\"Sawyer\",  # try with other robots like \"Sawyer\" and \"Jaco\"\n",
    "    has_renderer=True,  # can set to false for training\n",
    "    # controller_configs=controller_config,\n",
    "    render_camera=\"frontview\",\n",
    "    has_offscreen_renderer=True,\n",
    "    use_object_obs=True,\n",
    "    use_camera_obs=True,\n",
    "    camera_names=\"agentview\",\n",
    "    camera_heights=64,\n",
    "    camera_widths=64\n",
    ")\n",
    "\n",
    "# reset the environment\n",
    "env.reset()\n",
    "imgs = []\n",
    "for i in range(1000):\n",
    "    action = np.random.randn(8) # sample random action\n",
    "    obs, reward, done, info = env.step(action)  # take action in the environment\n",
    "    imgs.append(obs[\"agentview_image\"])\n",
    "    if i == 29:\n",
    "        break\n",
    "    # env.render()  # render on display"
   ]
  },
  {
   "cell_type": "code",
   "execution_count": 66,
   "metadata": {},
   "outputs": [
    {
     "data": {
      "text/plain": [
       "8"
      ]
     },
     "execution_count": 66,
     "metadata": {},
     "output_type": "execute_result"
    }
   ],
   "source": [
    "env.robots[0].action_dim"
   ]
  },
  {
   "cell_type": "code",
   "execution_count": 47,
   "metadata": {},
   "outputs": [
    {
     "name": "stdout",
     "output_type": "stream",
     "text": [
      "Action dimension=8\n",
      "Action value (LB/UB)=(array([-1., -1., -1., -1., -1., -1., -1., -1.]), array([1., 1., 1., 1., 1., 1., 1., 1.]))\n"
     ]
    }
   ],
   "source": [
    "print(f\"Action dimension={env.robots[0].action_dim}\")\n",
    "print(f\"Action value (LB/UB)={env.robots[0].action_limits}\")"
   ]
  },
  {
   "cell_type": "code",
   "execution_count": 50,
   "metadata": {},
   "outputs": [
    {
     "data": {
      "text/plain": [
       "<bound method SingleArm.control of <robosuite.robots.single_arm.SingleArm object at 0x15e5a8a00>>"
      ]
     },
     "execution_count": 50,
     "metadata": {},
     "output_type": "execute_result"
    }
   ],
   "source": [
    "env.robots[0].control"
   ]
  },
  {
   "cell_type": "code",
   "execution_count": 46,
   "metadata": {},
   "outputs": [
    {
     "data": {
      "text/plain": [
       "array([1., 1., 1., 1., 1., 1., 1., 1.])"
      ]
     },
     "execution_count": 46,
     "metadata": {},
     "output_type": "execute_result"
    }
   ],
   "source": [
    "env.robots[0].action_limits[1]"
   ]
  },
  {
   "cell_type": "code",
   "execution_count": 33,
   "metadata": {},
   "outputs": [
    {
     "data": {
      "text/plain": [
       "odict_keys(['robot0_joint_pos_cos', 'robot0_joint_pos_sin', 'robot0_joint_vel', 'robot0_eef_pos', 'robot0_eef_quat', 'robot0_gripper_qpos', 'robot0_gripper_qvel', 'agentview_image', 'cubeA_pos', 'cubeA_quat', 'cubeB_pos', 'cubeB_quat', 'gripper_to_cubeA', 'gripper_to_cubeB', 'cubeA_to_cubeB', 'robot0_proprio-state', 'object-state'])"
      ]
     },
     "execution_count": 33,
     "metadata": {},
     "output_type": "execute_result"
    }
   ],
   "source": [
    "obs.keys()\n"
   ]
  },
  {
   "cell_type": "code",
   "execution_count": 88,
   "metadata": {},
   "outputs": [
    {
     "data": {
      "text/plain": [
       "array([-0.07333178,  0.04182706,  0.81978449])"
      ]
     },
     "execution_count": 88,
     "metadata": {},
     "output_type": "execute_result"
    }
   ],
   "source": [
    "obs[\"cubeA_pos\"]"
   ]
  },
  {
   "cell_type": "code",
   "execution_count": 89,
   "metadata": {},
   "outputs": [
    {
     "data": {
      "text/plain": [
       "array([-0.02626404, -0.0518512 ,  0.82478449])"
      ]
     },
     "execution_count": 89,
     "metadata": {},
     "output_type": "execute_result"
    }
   ],
   "source": [
    "obs[\"cubeB_pos\"] # green"
   ]
  },
  {
   "cell_type": "code",
   "execution_count": 93,
   "metadata": {},
   "outputs": [
    {
     "name": "stdout",
     "output_type": "stream",
     "text": [
      "<robosuite.models.objects.primitive.box.BoxObject object at 0x16cf6d8b0>\n"
     ]
    }
   ],
   "source": []
  },
  {
   "cell_type": "code",
   "execution_count": 58,
   "metadata": {},
   "outputs": [
    {
     "data": {
      "text/plain": [
       "array([0.06356447, 0.00408205, 0.81978449])"
      ]
     },
     "execution_count": 58,
     "metadata": {},
     "output_type": "execute_result"
    }
   ],
   "source": [
    "obs[\"cubeA_pos\"]"
   ]
  },
  {
   "cell_type": "code",
   "execution_count": 34,
   "metadata": {},
   "outputs": [
    {
     "data": {
      "text/plain": [
       "(84, 84, 3)"
      ]
     },
     "execution_count": 34,
     "metadata": {},
     "output_type": "execute_result"
    }
   ],
   "source": [
    "obs[\"agentview_image\"].shape"
   ]
  },
  {
   "cell_type": "code",
   "execution_count": 6,
   "metadata": {},
   "outputs": [
    {
     "data": {
      "text/plain": [
       "<Figure size 640x480 with 0 Axes>"
      ]
     },
     "metadata": {},
     "output_type": "display_data"
    },
    {
     "data": {
      "image/png": "[encoded data removed]",
      "text/plain": [
       "<Figure size 1200x1000 with 30 Axes>"
      ]
     },
     "metadata": {},
     "output_type": "display_data"
    }
   ],
   "source": [
    "import matplotlib.pyplot as plt\n",
    "plt.figure()\n",
    "\n",
    "#subplot(r,c) provide the no. of rows and columns\n",
    "f, axarr = plt.subplots(6,5, figsize=(12, 10))\n",
    "\n",
    "# use the created array to output your multiple images. In this case I have stacked 4 images vertically\n",
    "for i in range(len(imgs)):\n",
    "    axarr[(i // 5, i % 5)].imshow(imgs[i])"
   ]
  },
  {
   "cell_type": "code",
   "execution_count": 8,
   "metadata": {},
   "outputs": [],
   "source": [
    "import pandas as pd\n",
    "import matplotlib.pyplot as plt\n",
    "df = pd.read_csv(\"../expert/trajectories/expert_observations_1_3.csv\")"
   ]
  },
  {
   "cell_type": "code",
   "execution_count": 24,
   "metadata": {},
   "outputs": [],
   "source": [
    "k = df.iloc[:,0:]"
   ]
  },
  {
   "cell_type": "code",
   "execution_count": 25,
   "metadata": {},
   "outputs": [
    {
     "data": {
      "text/html": [
       "<div>\n",
       "<style scoped>\n",
       "    .dataframe tbody tr th:only-of-type {\n",
       "        vertical-align: middle;\n",
       "    }\n",
       "\n",
       "    .dataframe tbody tr th {\n",
       "        vertical-align: top;\n",
       "    }\n",
       "\n",
       "    .dataframe thead th {\n",
       "        text-align: right;\n",
       "    }\n",
       "</style>\n",
       "<table border=\"1\" class=\"dataframe\">\n",
       "  <thead>\n",
       "    <tr style=\"text-align: right;\">\n",
       "      <th></th>\n",
       "      <th>0</th>\n",
       "      <th>1</th>\n",
       "      <th>2</th>\n",
       "      <th>3</th>\n",
       "      <th>4</th>\n",
       "      <th>5</th>\n",
       "      <th>6</th>\n",
       "      <th>7</th>\n",
       "      <th>8</th>\n",
       "      <th>9</th>\n",
       "      <th>...</th>\n",
       "      <th>100</th>\n",
       "      <th>101</th>\n",
       "      <th>102</th>\n",
       "      <th>103</th>\n",
       "      <th>104</th>\n",
       "      <th>105</th>\n",
       "      <th>106</th>\n",
       "      <th>107</th>\n",
       "      <th>108</th>\n",
       "      <th>109</th>\n",
       "    </tr>\n",
       "  </thead>\n",
       "  <tbody>\n",
       "    <tr>\n",
       "      <th>0</th>\n",
       "      <td>0.999688</td>\n",
       "      <td>0.419703</td>\n",
       "      <td>0.999989</td>\n",
       "      <td>-0.580728</td>\n",
       "      <td>0.999496</td>\n",
       "      <td>0.853629</td>\n",
       "      <td>0.024877</td>\n",
       "      <td>-0.024988</td>\n",
       "      <td>-0.907661</td>\n",
       "      <td>-0.004754</td>\n",
       "      <td>...</td>\n",
       "      <td>-0.928152</td>\n",
       "      <td>-0.186657</td>\n",
       "      <td>0.141665</td>\n",
       "      <td>-0.182054</td>\n",
       "      <td>0.036571</td>\n",
       "      <td>-0.217479</td>\n",
       "      <td>-0.177055</td>\n",
       "      <td>0.223228</td>\n",
       "      <td>-0.359144</td>\n",
       "      <td>0.005</td>\n",
       "    </tr>\n",
       "    <tr>\n",
       "      <th>1</th>\n",
       "      <td>0.999378</td>\n",
       "      <td>0.455597</td>\n",
       "      <td>0.999994</td>\n",
       "      <td>-0.574722</td>\n",
       "      <td>0.999466</td>\n",
       "      <td>0.862995</td>\n",
       "      <td>0.018335</td>\n",
       "      <td>-0.035262</td>\n",
       "      <td>-0.890186</td>\n",
       "      <td>-0.003596</td>\n",
       "      <td>...</td>\n",
       "      <td>-0.928152</td>\n",
       "      <td>-0.187215</td>\n",
       "      <td>0.145647</td>\n",
       "      <td>-0.169467</td>\n",
       "      <td>0.036013</td>\n",
       "      <td>-0.213496</td>\n",
       "      <td>-0.164467</td>\n",
       "      <td>0.223228</td>\n",
       "      <td>-0.359144</td>\n",
       "      <td>0.005</td>\n",
       "    </tr>\n",
       "    <tr>\n",
       "      <th>2</th>\n",
       "      <td>0.999008</td>\n",
       "      <td>0.466726</td>\n",
       "      <td>0.999976</td>\n",
       "      <td>-0.567607</td>\n",
       "      <td>0.999586</td>\n",
       "      <td>0.863147</td>\n",
       "      <td>0.005982</td>\n",
       "      <td>-0.044533</td>\n",
       "      <td>-0.884402</td>\n",
       "      <td>-0.006927</td>\n",
       "      <td>...</td>\n",
       "      <td>-0.928152</td>\n",
       "      <td>-0.190933</td>\n",
       "      <td>0.150770</td>\n",
       "      <td>-0.165228</td>\n",
       "      <td>0.032295</td>\n",
       "      <td>-0.208374</td>\n",
       "      <td>-0.160228</td>\n",
       "      <td>0.223228</td>\n",
       "      <td>-0.359144</td>\n",
       "      <td>0.005</td>\n",
       "    </tr>\n",
       "    <tr>\n",
       "      <th>3</th>\n",
       "      <td>0.998592</td>\n",
       "      <td>0.467345</td>\n",
       "      <td>0.999922</td>\n",
       "      <td>-0.560485</td>\n",
       "      <td>0.999739</td>\n",
       "      <td>0.859089</td>\n",
       "      <td>-0.008643</td>\n",
       "      <td>-0.053054</td>\n",
       "      <td>-0.884075</td>\n",
       "      <td>-0.012514</td>\n",
       "      <td>...</td>\n",
       "      <td>-0.928152</td>\n",
       "      <td>-0.195512</td>\n",
       "      <td>0.156460</td>\n",
       "      <td>-0.166294</td>\n",
       "      <td>0.027716</td>\n",
       "      <td>-0.202683</td>\n",
       "      <td>-0.161294</td>\n",
       "      <td>0.223228</td>\n",
       "      <td>-0.359144</td>\n",
       "      <td>0.005</td>\n",
       "    </tr>\n",
       "    <tr>\n",
       "      <th>4</th>\n",
       "      <td>0.998150</td>\n",
       "      <td>0.463686</td>\n",
       "      <td>0.999818</td>\n",
       "      <td>-0.553440</td>\n",
       "      <td>0.999866</td>\n",
       "      <td>0.853119</td>\n",
       "      <td>-0.023712</td>\n",
       "      <td>-0.060800</td>\n",
       "      <td>-0.885999</td>\n",
       "      <td>-0.019076</td>\n",
       "      <td>...</td>\n",
       "      <td>-0.928152</td>\n",
       "      <td>-0.200146</td>\n",
       "      <td>0.162260</td>\n",
       "      <td>-0.169631</td>\n",
       "      <td>0.023082</td>\n",
       "      <td>-0.196884</td>\n",
       "      <td>-0.164631</td>\n",
       "      <td>0.223228</td>\n",
       "      <td>-0.359144</td>\n",
       "      <td>0.005</td>\n",
       "    </tr>\n",
       "  </tbody>\n",
       "</table>\n",
       "<p>5 rows × 110 columns</p>\n",
       "</div>"
      ],
      "text/plain": [
       "          0         1         2         3         4         5         6  \\\n",
       "0  0.999688  0.419703  0.999989 -0.580728  0.999496  0.853629  0.024877   \n",
       "1  0.999378  0.455597  0.999994 -0.574722  0.999466  0.862995  0.018335   \n",
       "2  0.999008  0.466726  0.999976 -0.567607  0.999586  0.863147  0.005982   \n",
       "3  0.998592  0.467345  0.999922 -0.560485  0.999739  0.859089 -0.008643   \n",
       "4  0.998150  0.463686  0.999818 -0.553440  0.999866  0.853119 -0.023712   \n",
       "\n",
       "          7         8         9  ...       100       101       102       103  \\\n",
       "0 -0.024988 -0.907661 -0.004754  ... -0.928152 -0.186657  0.141665 -0.182054   \n",
       "1 -0.035262 -0.890186 -0.003596  ... -0.928152 -0.187215  0.145647 -0.169467   \n",
       "2 -0.044533 -0.884402 -0.006927  ... -0.928152 -0.190933  0.150770 -0.165228   \n",
       "3 -0.053054 -0.884075 -0.012514  ... -0.928152 -0.195512  0.156460 -0.166294   \n",
       "4 -0.060800 -0.885999 -0.019076  ... -0.928152 -0.200146  0.162260 -0.169631   \n",
       "\n",
       "        104       105       106       107       108    109  \n",
       "0  0.036571 -0.217479 -0.177055  0.223228 -0.359144  0.005  \n",
       "1  0.036013 -0.213496 -0.164467  0.223228 -0.359144  0.005  \n",
       "2  0.032295 -0.208374 -0.160228  0.223228 -0.359144  0.005  \n",
       "3  0.027716 -0.202683 -0.161294  0.223228 -0.359144  0.005  \n",
       "4  0.023082 -0.196884 -0.164631  0.223228 -0.359144  0.005  \n",
       "\n",
       "[5 rows x 110 columns]"
      ]
     },
     "execution_count": 25,
     "metadata": {},
     "output_type": "execute_result"
    }
   ],
   "source": [
    "k.head()"
   ]
  },
  {
   "cell_type": "code",
   "execution_count": 11,
   "metadata": {},
   "outputs": [
    {
     "data": {
      "text/plain": [
       "[<matplotlib.lines.Line2D at 0x13e1a8130>]"
      ]
     },
     "execution_count": 11,
     "metadata": {},
     "output_type": "execute_result"
    },
    {
     "data": {
      "image/png": "[encoded data removed]",
      "text/plain": [
       "<Figure size 640x480 with 1 Axes>"
      ]
     },
     "metadata": {},
     "output_type": "display_data"
    }
   ],
   "source": [
    "plt.plot(k[\"27\"])\n",
    "plt.plot(k[\"28\"])\n",
    "plt.plot(k[\"29\"])\n",
    "plt.plot(k[\"30\"])"
   ]
  },
  {
   "cell_type": "code",
   "execution_count": 16,
   "metadata": {},
   "outputs": [
    {
     "data": {
      "text/plain": [
       "[<matplotlib.lines.Line2D at 0x29a720370>]"
      ]
     },
     "execution_count": 16,
     "metadata": {},
     "output_type": "execute_result"
    },
    {
     "data": {
      "image/png": "[encoded data removed]",
      "text/plain": [
       "<Figure size 640x480 with 1 Axes>"
      ]
     },
     "metadata": {},
     "output_type": "display_data"
    }
   ],
   "source": []
  },
  {
   "cell_type": "code",
   "execution_count": null,
   "metadata": {},
   "outputs": [],
   "source": []
  }
 ],
 "metadata": {
  "kernelspec": {
   "display_name": "cs234",
   "language": "python",
   "name": "python3"
  },
  "language_info": {
   "codemirror_mode": {
    "name": "ipython",
    "version": 3
   },
   "file_extension": ".py",
   "mimetype": "text/x-python",
   "name": "python",
   "nbconvert_exporter": "python",
   "pygments_lexer": "ipython3",
   "version": "3.9.16"
  },
  "orig_nbformat": 4,
  "vscode": {
   "interpreter": {
    "hash": "de09f0ce38e4207f61fbeedf2940087d5cdb2acc93c3651b82443be07cd65e67"
   }
  }
 },
 "nbformat": 4,
 "nbformat_minor": 2
}
